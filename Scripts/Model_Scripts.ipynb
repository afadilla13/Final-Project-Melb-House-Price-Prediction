{
 "cells": [
  {
   "cell_type": "code",
   "execution_count": 7,
   "id": "e6bb779b",
   "metadata": {},
   "outputs": [],
   "source": [
    "# Importing necessary libraries\n",
    "import numpy as np\n",
    "import pandas as pd\n",
    "from sklearn.preprocessing import LabelEncoder\n",
    "from sklearn.preprocessing import StandardScaler\n",
    "from sklearn.model_selection import train_test_split, RandomizedSearchCV\n",
    "from sklearn.linear_model import LinearRegression, Ridge, Lasso\n",
    "from sklearn.ensemble import RandomForestRegressor\n",
    "from sklearn.tree import DecisionTreeRegressor\n",
    "from sklearn.metrics import r2_score\n",
    "from sklearn.model_selection import GridSearchCV\n",
    "from sklearn.metrics import mean_squared_error as mse\n",
    "from sklearn.metrics import mean_squared_error, mean_absolute_error, r2_score\n",
    "from sklearn.ensemble import GradientBoostingRegressor\n",
    "from sklearn.svm import SVR\n",
    "import pickle\n",
    "import warnings\n",
    "warnings.filterwarnings(\"ignore\", category=UserWarning, module=\"sklearn\")\n",
    "import matplotlib.pyplot as plt"
   ]
  },
  {
   "cell_type": "code",
   "execution_count": 8,
   "id": "c1bd759f",
   "metadata": {},
   "outputs": [
    {
     "data": {
      "text/html": [
       "<div>\n",
       "<style scoped>\n",
       "    .dataframe tbody tr th:only-of-type {\n",
       "        vertical-align: middle;\n",
       "    }\n",
       "\n",
       "    .dataframe tbody tr th {\n",
       "        vertical-align: top;\n",
       "    }\n",
       "\n",
       "    .dataframe thead th {\n",
       "        text-align: right;\n",
       "    }\n",
       "</style>\n",
       "<table border=\"1\" class=\"dataframe\">\n",
       "  <thead>\n",
       "    <tr style=\"text-align: right;\">\n",
       "      <th></th>\n",
       "      <th>Suburb</th>\n",
       "      <th>Rooms</th>\n",
       "      <th>Type</th>\n",
       "      <th>Price</th>\n",
       "      <th>Distance</th>\n",
       "      <th>Bathroom</th>\n",
       "      <th>Car</th>\n",
       "      <th>Region</th>\n",
       "      <th>Log_Price</th>\n",
       "    </tr>\n",
       "  </thead>\n",
       "  <tbody>\n",
       "    <tr>\n",
       "      <th>0</th>\n",
       "      <td>0</td>\n",
       "      <td>2</td>\n",
       "      <td>0</td>\n",
       "      <td>1480000.0</td>\n",
       "      <td>2.5</td>\n",
       "      <td>1.0</td>\n",
       "      <td>1.0</td>\n",
       "      <td>2</td>\n",
       "      <td>14.207553</td>\n",
       "    </tr>\n",
       "    <tr>\n",
       "      <th>1</th>\n",
       "      <td>0</td>\n",
       "      <td>2</td>\n",
       "      <td>0</td>\n",
       "      <td>1035000.0</td>\n",
       "      <td>2.5</td>\n",
       "      <td>1.0</td>\n",
       "      <td>0.0</td>\n",
       "      <td>2</td>\n",
       "      <td>13.849913</td>\n",
       "    </tr>\n",
       "    <tr>\n",
       "      <th>2</th>\n",
       "      <td>0</td>\n",
       "      <td>3</td>\n",
       "      <td>0</td>\n",
       "      <td>1465000.0</td>\n",
       "      <td>2.5</td>\n",
       "      <td>2.0</td>\n",
       "      <td>0.0</td>\n",
       "      <td>2</td>\n",
       "      <td>14.197366</td>\n",
       "    </tr>\n",
       "    <tr>\n",
       "      <th>3</th>\n",
       "      <td>0</td>\n",
       "      <td>3</td>\n",
       "      <td>0</td>\n",
       "      <td>850000.0</td>\n",
       "      <td>2.5</td>\n",
       "      <td>2.0</td>\n",
       "      <td>1.0</td>\n",
       "      <td>2</td>\n",
       "      <td>13.652993</td>\n",
       "    </tr>\n",
       "    <tr>\n",
       "      <th>4</th>\n",
       "      <td>0</td>\n",
       "      <td>4</td>\n",
       "      <td>0</td>\n",
       "      <td>1600000.0</td>\n",
       "      <td>2.5</td>\n",
       "      <td>1.0</td>\n",
       "      <td>2.0</td>\n",
       "      <td>2</td>\n",
       "      <td>14.285515</td>\n",
       "    </tr>\n",
       "  </tbody>\n",
       "</table>\n",
       "</div>"
      ],
      "text/plain": [
       "   Suburb  Rooms  Type      Price  Distance  Bathroom  Car  Region  Log_Price\n",
       "0       0      2     0  1480000.0       2.5       1.0  1.0       2  14.207553\n",
       "1       0      2     0  1035000.0       2.5       1.0  0.0       2  13.849913\n",
       "2       0      3     0  1465000.0       2.5       2.0  0.0       2  14.197366\n",
       "3       0      3     0   850000.0       2.5       2.0  1.0       2  13.652993\n",
       "4       0      4     0  1600000.0       2.5       1.0  2.0       2  14.285515"
      ]
     },
     "execution_count": 8,
     "metadata": {},
     "output_type": "execute_result"
    }
   ],
   "source": [
    "# Reading the cleaned dataset\n",
    "cleaned_df = pd.read_csv('..\\Cleaned_Data\\Cleaned_Data_LogPrice.csv')\n",
    "cleaned_df.head()"
   ]
  },
  {
   "cell_type": "code",
   "execution_count": 9,
   "id": "44594ed9",
   "metadata": {},
   "outputs": [
    {
     "data": {
      "text/plain": [
       "(   Suburb  Rooms  Type  Distance  Bathroom  Car  Region\n",
       " 0       0      2     0       2.5       1.0  1.0       2\n",
       " 1       0      2     0       2.5       1.0  0.0       2\n",
       " 2       0      3     0       2.5       2.0  0.0       2\n",
       " 3       0      3     0       2.5       2.0  1.0       2\n",
       " 4       0      4     0       2.5       1.0  2.0       2,\n",
       " 0    14.207553\n",
       " 1    13.849913\n",
       " 2    14.197366\n",
       " 3    13.652993\n",
       " 4    14.285515\n",
       " Name: Log_Price, dtype: float64)"
      ]
     },
     "execution_count": 9,
     "metadata": {},
     "output_type": "execute_result"
    }
   ],
   "source": [
    "# Separate the features and target variable\n",
    "X = cleaned_df.drop(['Price', 'Log_Price'], axis=1)  # Drop the original Price and Log_Price to avoid data leakage\n",
    "y = cleaned_df['Log_Price']  # Target variable\n",
    "\n",
    "# Display the first few rows of features and target\n",
    "(X.head(), y.head())"
   ]
  },
  {
   "cell_type": "code",
   "execution_count": 10,
   "id": "b6b53645",
   "metadata": {},
   "outputs": [],
   "source": [
    "# Split data\n",
    "X_train, X_test, y_train, y_test = train_test_split(X, y, test_size = 0.2, random_state = 42)\n",
    "\n",
    "# Scale data\n",
    "scaler = StandardScaler().fit(X_train)\n",
    "X_train_scaled = scaler.transform(X_train)\n",
    "X_test_scaled = scaler.transform(X_test)"
   ]
  },
  {
   "cell_type": "code",
   "execution_count": 11,
   "id": "590a9bd4",
   "metadata": {},
   "outputs": [
    {
     "data": {
      "text/plain": [
       "((14158, 7), (3540, 7))"
      ]
     },
     "execution_count": 11,
     "metadata": {},
     "output_type": "execute_result"
    }
   ],
   "source": [
    "# Shape data\n",
    "X_train_scaled.shape, X_test_scaled.shape"
   ]
  },
  {
   "cell_type": "markdown",
   "id": "b8eaaedb",
   "metadata": {},
   "source": [
    "# Data Modeling"
   ]
  },
  {
   "cell_type": "markdown",
   "id": "0b3d4a9d",
   "metadata": {},
   "source": [
    "## Linear Regression model"
   ]
  },
  {
   "cell_type": "code",
   "execution_count": 12,
   "id": "ceea46d0",
   "metadata": {
    "scrolled": true
   },
   "outputs": [
    {
     "name": "stdout",
     "output_type": "stream",
     "text": [
      "Linear Regression Mean Squared Error (MSE): 0.12703516990195998\n",
      "Linear Regression Root Mean Squared Error (RMSE): 0.35641993477071393\n",
      "Linear Regression Mean Absolute Error (MAE): 0.2831437864815163\n",
      "Linear Regression R-squared (R2): 0.5187003639443211\n"
     ]
    }
   ],
   "source": [
    "# Initialize the Linear Regression model\n",
    "lr_model = LinearRegression()\n",
    "\n",
    "# Train the model on the training data\n",
    "lr_model.fit(X_train_scaled, y_train)\n",
    "\n",
    "# Predict on the testing data\n",
    "y_pred_lr = lr_model.predict(X_test_scaled)\n",
    "\n",
    "# Calculate evaluation metrics\n",
    "lr_mse = mean_squared_error(y_test, y_pred_lr)\n",
    "lr_rmse = mean_squared_error(y_test, y_pred_lr, squared=False)\n",
    "lr_mae = mean_absolute_error(y_test, y_pred_lr)  # Fix: Use mean_absolute_error\n",
    "lr_r2 = r2_score(y_test, y_pred_lr)\n",
    "\n",
    "# Printing each metric individually using f-strings\n",
    "print(f\"Linear Regression Mean Squared Error (MSE): {lr_mse}\")\n",
    "print(f\"Linear Regression Root Mean Squared Error (RMSE): {lr_rmse}\")\n",
    "print(f\"Linear Regression Mean Absolute Error (MAE): {lr_mae}\")\n",
    "print(f\"Linear Regression R-squared (R2): {lr_r2}\")"
   ]
  },
  {
   "cell_type": "code",
   "execution_count": 13,
   "id": "40b2ab81",
   "metadata": {},
   "outputs": [
    {
     "name": "stdout",
     "output_type": "stream",
     "text": [
      "Training Score: 0.5390607601560405\n",
      "Testing Score: 0.5187003639443211\n"
     ]
    }
   ],
   "source": [
    "# Calculate training and testing score \n",
    "training_score = lr_model.score(X_train_scaled, y_train)\n",
    "testing_score = lr_model.score(X_test_scaled, y_test)\n",
    "\n",
    "# Print the training and testing score\n",
    "print(f\"Training Score: {training_score}\")\n",
    "print(f\"Testing Score: {testing_score}\")"
   ]
  },
  {
   "cell_type": "markdown",
   "id": "99be0952",
   "metadata": {},
   "source": [
    "## Gradient Boosting Regression model"
   ]
  },
  {
   "cell_type": "code",
   "execution_count": 14,
   "id": "47cd3217",
   "metadata": {},
   "outputs": [
    {
     "name": "stdout",
     "output_type": "stream",
     "text": [
      "Gradient Boosting Mean Squared Error (MSE): 0.059622014723633314\n",
      "Gradient Boosting Root Mean Squared Error (RMSE): 0.2441761960626656\n",
      "Gradient Boosting Mean Absolute Error (MAE): 0.1856554837009077\n",
      "Gradient Boosting R-squared (R2): 0.7741093745178019\n"
     ]
    }
   ],
   "source": [
    "# Initialize the Gradient Boosting Regression model\n",
    "gb_model = GradientBoostingRegressor(random_state=42)\n",
    "\n",
    "# Train the model on the training data\n",
    "gb_model.fit(X_train_scaled, y_train)\n",
    "\n",
    "# Predict on the testing data using Gradient Boosting Regressor\n",
    "y_pred_gb = gb_model.predict(X_test_scaled)\n",
    "\n",
    "# Calculate evaluation metrics\n",
    "gb_mse = mean_squared_error(y_test, y_pred_gb)\n",
    "gb_rmse = mean_squared_error(y_test, y_pred_gb, squared=False)\n",
    "gb_mae = mean_absolute_error(y_test, y_pred_gb)\n",
    "gb_r2 = r2_score(y_test, y_pred_gb)\n",
    "\n",
    "# Print each metric using f-strings\n",
    "print(f\"Gradient Boosting Mean Squared Error (MSE): {gb_mse}\")\n",
    "print(f\"Gradient Boosting Root Mean Squared Error (RMSE): {gb_rmse}\")\n",
    "print(f\"Gradient Boosting Mean Absolute Error (MAE): {gb_mae}\")\n",
    "print(f\"Gradient Boosting R-squared (R2): {gb_r2}\")"
   ]
  },
  {
   "cell_type": "code",
   "execution_count": 15,
   "id": "0d370e1b",
   "metadata": {},
   "outputs": [
    {
     "name": "stdout",
     "output_type": "stream",
     "text": [
      "Training Score: 0.7960610138289723\n",
      "Testing Score: 0.7741093745178019\n"
     ]
    }
   ],
   "source": [
    "# Calculate training and testing score \n",
    "training_score = gb_model.score(X_train_scaled, y_train)\n",
    "testing_score = gb_model.score(X_test_scaled, y_test)\n",
    "\n",
    "# Print the training and testing score\n",
    "print(f\"Training Score: {training_score}\")\n",
    "print(f\"Testing Score: {testing_score}\")"
   ]
  },
  {
   "cell_type": "markdown",
   "id": "25c6027a",
   "metadata": {},
   "source": [
    "## Random Forest Regression model"
   ]
  },
  {
   "cell_type": "code",
   "execution_count": 16,
   "id": "c6ee1467",
   "metadata": {},
   "outputs": [
    {
     "name": "stdout",
     "output_type": "stream",
     "text": [
      "Random Forest Mean Squared Error (MSE): 0.05561126649683585\n",
      "Random Forest Root Mean Squared Error (RMSE): 0.23582041153563416\n",
      "Random Forest Mean Absolute Error (MAE): 0.17514881786467343\n",
      "Random Forest R-squared (R2): 0.7893049432989383\n"
     ]
    }
   ],
   "source": [
    "# Initialize the Random Forest Regression model\n",
    "rf_model = RandomForestRegressor(random_state=42, n_jobs=-1)\n",
    "\n",
    "# Train the model on the training data\n",
    "rf_model.fit(X_train_scaled, y_train)\n",
    "\n",
    "# Predict on the testing data\n",
    "y_pred_rf = rf_model.predict(X_test_scaled)\n",
    "\n",
    "# Calculate evaluation metrics\n",
    "rf_mse = mean_squared_error(y_test, y_pred_rf)\n",
    "rf_rmse = mean_squared_error(y_test, y_pred_rf, squared=False)\n",
    "rf_mae = mean_absolute_error(y_test, y_pred_rf)\n",
    "rf_r2 = r2_score(y_test, y_pred_rf)\n",
    "\n",
    "# Print each metric using f-strings\n",
    "print(f\"Random Forest Mean Squared Error (MSE): {rf_mse}\")\n",
    "print(f\"Random Forest Root Mean Squared Error (RMSE): {rf_rmse}\")\n",
    "print(f\"Random Forest Mean Absolute Error (MAE): {rf_mae}\")\n",
    "print(f\"Random Forest R-squared (R2): {rf_r2}\")"
   ]
  },
  {
   "cell_type": "code",
   "execution_count": 17,
   "id": "a54970b9",
   "metadata": {},
   "outputs": [
    {
     "name": "stdout",
     "output_type": "stream",
     "text": [
      "Training Score: 0.9114944840327691\n",
      "Testing Score: 0.7893049432989383\n"
     ]
    }
   ],
   "source": [
    "# Calculate training and testing score \n",
    "training_score = rf_model.score(X_train_scaled, y_train)\n",
    "testing_score = rf_model.score(X_test_scaled, y_test)\n",
    "\n",
    "# Print the training and testing score\n",
    "print(f\"Training Score: {training_score}\")\n",
    "print(f\"Testing Score: {testing_score}\")"
   ]
  },
  {
   "cell_type": "markdown",
   "id": "21d843a7",
   "metadata": {},
   "source": [
    "## Tuned Random Forest Regression model using Randomized Search CV"
   ]
  },
  {
   "cell_type": "code",
   "execution_count": 18,
   "id": "e7700f7e",
   "metadata": {},
   "outputs": [
    {
     "name": "stdout",
     "output_type": "stream",
     "text": [
      "Tuned Random Forest Mean Squared Error (MSE): 0.05231951273435163\n",
      "Tuned Random Forest Root Mean Squared Error (RMSE): 0.22873459015713304\n",
      "Tuned Random Forest Mean Absolute Error (MAE): 0.17046033421544568\n",
      "Tuned Random Forest R-squared (R2): 0.8017764493321988\n"
     ]
    }
   ],
   "source": [
    "# Define the parameter grid for the RandomForestRegressor\n",
    "param_dist = {\n",
    "    'n_estimators': [10, 50, 100, 200, 500],\n",
    "    'max_features': ['sqrt', 'log2'],\n",
    "    'max_depth': [None, 10, 20, 30, 40, 50],\n",
    "    'min_samples_split': range(2, 11),\n",
    "    'min_samples_leaf': range(1, 11)\n",
    "}\n",
    "\n",
    "# Initialize the RandomForestRegressor model\n",
    "rf_model_t = RandomForestRegressor(random_state=42, n_jobs=-1)\n",
    "\n",
    "# Set up Randomized Search CV\n",
    "random_search = RandomizedSearchCV(rf_model_t, param_distributions=param_dist, n_iter=100, \n",
    "                                   scoring='neg_mean_squared_error', n_jobs=-1, cv=5, random_state=42)\n",
    "\n",
    "# Train the model on the training data using Randomized Search\n",
    "random_search.fit(X_train_scaled, y_train)\n",
    "\n",
    "# Retrieve the best estimator\n",
    "best_rf_model = random_search.best_estimator_\n",
    "\n",
    "# Predict on the testing data using the best estimator\n",
    "y_pred_rf = best_rf_model.predict(X_test_scaled)\n",
    "\n",
    "# Calculate evaluation metrics\n",
    "rf_mse_t = mean_squared_error(y_test, y_pred_rf)\n",
    "rf_rmse_t = mean_squared_error(y_test, y_pred_rf, squared=False)\n",
    "rf_mae_t = mean_absolute_error(y_test, y_pred_rf)\n",
    "rf_r2_t = r2_score(y_test, y_pred_rf)\n",
    "\n",
    "# Print each metric using f-strings\n",
    "print(f\"Tuned Random Forest Mean Squared Error (MSE): {rf_mse_t}\")\n",
    "print(f\"Tuned Random Forest Root Mean Squared Error (RMSE): {rf_rmse_t}\")\n",
    "print(f\"Tuned Random Forest Mean Absolute Error (MAE): {rf_mae_t}\")\n",
    "print(f\"Tuned Random Forest R-squared (R2): {rf_r2_t}\")"
   ]
  },
  {
   "cell_type": "code",
   "execution_count": 19,
   "id": "6907a2b2",
   "metadata": {},
   "outputs": [
    {
     "name": "stdout",
     "output_type": "stream",
     "text": [
      "Training Score: 0.8838822221415641\n",
      "Testing Score: 0.8017764493321988\n"
     ]
    }
   ],
   "source": [
    "# Calculate training and testing score \n",
    "training_score = best_rf_model.score(X_train_scaled, y_train)\n",
    "testing_score = best_rf_model.score(X_test_scaled, y_test)\n",
    "\n",
    "# Print the training and testing score\n",
    "print(f\"Training Score: {training_score}\")\n",
    "print(f\"Testing Score: {testing_score}\")"
   ]
  },
  {
   "cell_type": "markdown",
   "id": "15425514",
   "metadata": {},
   "source": [
    "## Decision Tree model"
   ]
  },
  {
   "cell_type": "code",
   "execution_count": 20,
   "id": "f8c68eb4",
   "metadata": {},
   "outputs": [
    {
     "name": "stdout",
     "output_type": "stream",
     "text": [
      "Decision Tree Mean Squared Error (MSE): 0.06934985358839214\n",
      "Decision Tree Root Mean Squared Error (RMSE): 0.26334360365953857\n",
      "Decision Tree Mean Absolute Error (MAE): 0.19150419924915607\n",
      "Decision Tree R-squared (R2): 0.7372533974775062\n"
     ]
    }
   ],
   "source": [
    "# Initialize the Decision Tree Regression model\n",
    "dt_model = DecisionTreeRegressor(random_state=42)\n",
    "\n",
    "# Train the model on the training data\n",
    "dt_model.fit(X_train_scaled, y_train)\n",
    "\n",
    "# Predict on the testing data\n",
    "y_pred_dt = dt_model.predict(X_test_scaled)\n",
    "\n",
    "# Calculate evaluation metrics\n",
    "dt_mse = mean_squared_error(y_test, y_pred_dt)\n",
    "dt_rmse = mean_squared_error(y_test, y_pred_dt, squared=False)\n",
    "dt_mae = mean_absolute_error(y_test, y_pred_dt)\n",
    "dt_r2 = r2_score(y_test, y_pred_dt)\n",
    "\n",
    "# Print each metric using f-strings\n",
    "print(f\"Decision Tree Mean Squared Error (MSE): {dt_mse}\")\n",
    "print(f\"Decision Tree Root Mean Squared Error (RMSE): {dt_rmse}\")\n",
    "print(f\"Decision Tree Mean Absolute Error (MAE): {dt_mae}\")\n",
    "print(f\"Decision Tree R-squared (R2): {dt_r2}\")"
   ]
  },
  {
   "cell_type": "code",
   "execution_count": 21,
   "id": "a34493be",
   "metadata": {},
   "outputs": [
    {
     "name": "stdout",
     "output_type": "stream",
     "text": [
      "Training Score: 0.9223930916406637\n",
      "Testing Score: 0.7372533974775062\n"
     ]
    }
   ],
   "source": [
    "# Calculate training and testing score \n",
    "training_score = dt_model.score(X_train_scaled, y_train)\n",
    "testing_score = dt_model.score(X_test_scaled, y_test)\n",
    "\n",
    "# Print the training and testing score\n",
    "print(f\"Training Score: {training_score}\")\n",
    "print(f\"Testing Score: {testing_score}\")"
   ]
  },
  {
   "cell_type": "markdown",
   "id": "fddd6de0",
   "metadata": {},
   "source": [
    "## Tuned Decision Tree Model using Randomized Search CV "
   ]
  },
  {
   "cell_type": "code",
   "execution_count": 22,
   "id": "56729973",
   "metadata": {},
   "outputs": [
    {
     "name": "stdout",
     "output_type": "stream",
     "text": [
      "Tuned Decision Tree Mean Squared Error (MSE): 0.05813894562082217\n",
      "Tuned Decision Tree Root Mean Squared Error (RMSE): 0.24112018916055572\n",
      "Tuned Decision Tree Mean Absolute Error (MAE): 0.17969697817548377\n",
      "Tuned Decision Tree R-squared (R2): 0.7797282957974705\n"
     ]
    }
   ],
   "source": [
    "# Define the parameter grid for the Decision Tree\n",
    "param_dist = {\n",
    "    \"max_depth\": [None, 10, 20, 30, 40, 50],\n",
    "    \"min_samples_split\": range(2, 11),\n",
    "    \"min_samples_leaf\": range(1, 11),\n",
    "    \"criterion\": [\"squared_error\", \"friedman_mse\", \"absolute_error\"]  # Updated the values\n",
    "}\n",
    "\n",
    "# Initialize the Decision Tree Regression model\n",
    "dt_model = DecisionTreeRegressor(random_state=42)\n",
    "\n",
    "# Set up Randomized Search CV\n",
    "random_search = RandomizedSearchCV(dt_model, param_distributions=param_dist, n_iter=100, \n",
    "                                   scoring='neg_mean_squared_error', n_jobs=-1, cv=5, random_state=42)\n",
    "\n",
    "# Train the model on the training data using Randomized Search\n",
    "random_search.fit(X_train_scaled, y_train)\n",
    "\n",
    "# Retrieve the best estimator\n",
    "best_dt_model = random_search.best_estimator_\n",
    "\n",
    "# Predict on the testing data using the best estimator\n",
    "y_pred_dt = best_dt_model.predict(X_test_scaled)\n",
    "\n",
    "# Calculate evaluation metrics\n",
    "dt_mse_t = mean_squared_error(y_test, y_pred_dt)\n",
    "dt_rmse_t = mean_squared_error(y_test, y_pred_dt, squared=False)\n",
    "dt_mae_t = mean_absolute_error(y_test, y_pred_dt)\n",
    "dt_r2_t = r2_score(y_test, y_pred_dt)\n",
    "\n",
    "# Print each metric using f-strings\n",
    "print(f\"Tuned Decision Tree Mean Squared Error (MSE): {dt_mse_t}\")\n",
    "print(f\"Tuned Decision Tree Root Mean Squared Error (RMSE): {dt_rmse_t}\")\n",
    "print(f\"Tuned Decision Tree Mean Absolute Error (MAE): {dt_mae_t}\")\n",
    "print(f\"Tuned Decision Tree R-squared (R2): {dt_r2_t}\")"
   ]
  },
  {
   "cell_type": "code",
   "execution_count": 23,
   "id": "bc5e226d",
   "metadata": {},
   "outputs": [
    {
     "name": "stdout",
     "output_type": "stream",
     "text": [
      "Training Score: 0.8461008204542811\n",
      "Testing Score: 0.7797282957974705\n"
     ]
    }
   ],
   "source": [
    "# Calculate training and testing score \n",
    "training_score = best_dt_model.score(X_train_scaled, y_train)\n",
    "testing_score = best_dt_model.score(X_test_scaled, y_test)\n",
    "\n",
    "# Print the training and testing score\n",
    "print(f\"Training Score: {training_score}\")\n",
    "print(f\"Testing Score: {testing_score}\")"
   ]
  },
  {
   "cell_type": "markdown",
   "id": "70c71b60",
   "metadata": {},
   "source": [
    "## Support Vector Regressor model"
   ]
  },
  {
   "cell_type": "code",
   "execution_count": 24,
   "id": "4f492363",
   "metadata": {},
   "outputs": [
    {
     "name": "stdout",
     "output_type": "stream",
     "text": [
      "Support Vector Regression Mean Squared Error (MSE): 0.06496672807932648\n",
      "Support Vector Regression Root Mean Squared Error (RMSE): 0.2548857157224125\n",
      "Support Vector Regression Mean Absolute Error (MAE): 0.19264943781122293\n",
      "Support Vector Regression R-squared (R2): 0.7538597964292906\n"
     ]
    }
   ],
   "source": [
    "# Initialize the Support Vector Regressor model\n",
    "svr_model = SVR()\n",
    "\n",
    "# Train the model on the training data\n",
    "svr_model.fit(X_train_scaled, y_train)\n",
    "\n",
    "# Predict on the testing data\n",
    "y_pred_svr = svr_model.predict(X_test_scaled)\n",
    "\n",
    "# Calculate evaluation metrics\n",
    "svr_mse = mean_squared_error(y_test, y_pred_svr)\n",
    "svr_rmse = mean_squared_error(y_test, y_pred_svr, squared=False)\n",
    "svr_mae = mean_absolute_error(y_test, y_pred_svr)\n",
    "svr_r2 = r2_score(y_test, y_pred_svr)\n",
    "\n",
    "# Print each metric using f-strings\n",
    "print(f\"Support Vector Regression Mean Squared Error (MSE): {svr_mse}\")\n",
    "print(f\"Support Vector Regression Root Mean Squared Error (RMSE): {svr_rmse}\")\n",
    "print(f\"Support Vector Regression Mean Absolute Error (MAE): {svr_mae}\")\n",
    "print(f\"Support Vector Regression R-squared (R2): {svr_r2}\")"
   ]
  },
  {
   "cell_type": "code",
   "execution_count": 25,
   "id": "f095ecd2",
   "metadata": {},
   "outputs": [
    {
     "name": "stdout",
     "output_type": "stream",
     "text": [
      "Training Score: 0.7858616756356992\n",
      "Testing Score: 0.7538597964292906\n"
     ]
    }
   ],
   "source": [
    "# Calculate training and testing score \n",
    "training_score = svr_model.score(X_train_scaled, y_train)\n",
    "testing_score = svr_model.score(X_test_scaled, y_test)\n",
    "\n",
    "# Print the training and testing score\n",
    "print(f\"Training Score: {training_score}\")\n",
    "print(f\"Testing Score: {testing_score}\")"
   ]
  },
  {
   "cell_type": "markdown",
   "id": "61d1d1ed",
   "metadata": {},
   "source": [
    "## Lasso model"
   ]
  },
  {
   "cell_type": "code",
   "execution_count": 26,
   "id": "dbf0c24e",
   "metadata": {},
   "outputs": [
    {
     "name": "stdout",
     "output_type": "stream",
     "text": [
      "Lasso Regression Mean Squared Error (MSE): 0.2639477526711215\n",
      "Lasso Regression Root Mean Squared Error (RMSE): 0.513758457517851\n",
      "Lasso Regression Mean Absolute Error (MAE): 0.4102779011976301\n",
      "Lasso Regression R-squared (R2): -2.1941926533486367e-05\n"
     ]
    }
   ],
   "source": [
    "# Initialize the Lasso regression model\n",
    "lasso_model = Lasso(alpha=1.0)  # You can adjust the alpha (regularization strength) as needed\n",
    "\n",
    "# Train the model on the training data\n",
    "lasso_model.fit(X_train_scaled, y_train)\n",
    "\n",
    "# Predict on the testing data\n",
    "y_pred_lasso = lasso_model.predict(X_test_scaled)\n",
    "\n",
    "# Calculate evaluation metrics\n",
    "lasso_mse = mean_squared_error(y_test, y_pred_lasso)\n",
    "lasso_rmse = mean_squared_error(y_test, y_pred_lasso, squared=False)\n",
    "lasso_mae = mean_absolute_error(y_test, y_pred_lasso)\n",
    "lasso_r2 = r2_score(y_test, y_pred_lasso)\n",
    "\n",
    "# Printing each metric using f-strings\n",
    "print(f\"Lasso Regression Mean Squared Error (MSE): {lasso_mse}\")\n",
    "print(f\"Lasso Regression Root Mean Squared Error (RMSE): {lasso_rmse}\")\n",
    "print(f\"Lasso Regression Mean Absolute Error (MAE): {lasso_mae}\")\n",
    "print(f\"Lasso Regression R-squared (R2): {lasso_r2}\")"
   ]
  },
  {
   "cell_type": "code",
   "execution_count": 27,
   "id": "53d3b23c",
   "metadata": {},
   "outputs": [
    {
     "name": "stdout",
     "output_type": "stream",
     "text": [
      "Training Score: 0.0\n",
      "Testing Score: -2.1941926533486367e-05\n"
     ]
    }
   ],
   "source": [
    "# Calculate training and testing score \n",
    "training_score = lasso_model.score(X_train_scaled, y_train)\n",
    "testing_score = lasso_model.score(X_test_scaled, y_test)\n",
    "\n",
    "# Print the training and testing score\n",
    "print(f\"Training Score: {training_score}\")\n",
    "print(f\"Testing Score: {testing_score}\")"
   ]
  },
  {
   "cell_type": "markdown",
   "id": "bb9eec03",
   "metadata": {},
   "source": [
    "## Ridge model"
   ]
  },
  {
   "cell_type": "code",
   "execution_count": 28,
   "id": "11eabc2d",
   "metadata": {},
   "outputs": [
    {
     "name": "stdout",
     "output_type": "stream",
     "text": [
      "Ridge Regression Mean Squared Error (MSE): 0.1270346652600287\n",
      "Ridge Regression Root Mean Squared Error (RMSE): 0.35641922683832405\n",
      "Ridge Regression Mean Absolute Error (MAE): 0.2831430491646807\n",
      "Ridge Regression R-squared (R2): 0.5187022758871165\n"
     ]
    }
   ],
   "source": [
    "# Initialize the Ridge regression model\n",
    "ridge_model = Ridge(alpha=1.0)  # You can adjust the alpha (regularization strength) as needed\n",
    "\n",
    "# Train the model on the training data\n",
    "ridge_model.fit(X_train_scaled, y_train)\n",
    "\n",
    "# Predict on the testing data\n",
    "y_pred_ridge = ridge_model.predict(X_test_scaled)\n",
    "\n",
    "# Calculate evaluation metrics\n",
    "ridge_mse = mean_squared_error(y_test, y_pred_ridge)\n",
    "ridge_rmse = mean_squared_error(y_test, y_pred_ridge, squared=False)\n",
    "ridge_mae = mean_absolute_error(y_test, y_pred_ridge)\n",
    "ridge_r2 = r2_score(y_test, y_pred_ridge)\n",
    "\n",
    "# Printing each metric using f-strings\n",
    "print(f\"Ridge Regression Mean Squared Error (MSE): {ridge_mse}\")\n",
    "print(f\"Ridge Regression Root Mean Squared Error (RMSE): {ridge_rmse}\")\n",
    "print(f\"Ridge Regression Mean Absolute Error (MAE): {ridge_mae}\")\n",
    "print(f\"Ridge Regression R-squared (R2): {ridge_r2}\")"
   ]
  },
  {
   "cell_type": "code",
   "execution_count": 29,
   "id": "be844d69",
   "metadata": {},
   "outputs": [
    {
     "name": "stdout",
     "output_type": "stream",
     "text": [
      "Training Score: 0.5390607576578176\n",
      "Testing Score: 0.5187022758871165\n"
     ]
    }
   ],
   "source": [
    "# Calculate training and testing score \n",
    "training_score = ridge_model.score(X_train_scaled, y_train)\n",
    "testing_score = ridge_model.score(X_test_scaled, y_test)\n",
    "\n",
    "# Print the training and testing score\n",
    "print(f\"Training Score: {training_score}\")\n",
    "print(f\"Testing Score: {testing_score}\")"
   ]
  },
  {
   "cell_type": "markdown",
   "id": "d7312edd",
   "metadata": {},
   "source": [
    "When selecting a machine learning model, we typically want to choose one that minimizes error metrics (like MSE, RMSE, and MAE) and maximizes the coefficient of determination (R-squared). R-squared is a statistical measure that represents the proportion of the variance for the dependent variable that's explained by the independent variables in a regression model.\n",
    "\n",
    "## Model Summary Ranked by R-squared Value\n",
    "\n",
    "1. **Tuned Random Forest Regression model using Randomized Search CV**\n",
    "      - **R2**: 0.8017764493321988\n",
    "      - **MSE**: 0.05231951273435163\n",
    "      - **RMSE**: 0.22873459015713304\n",
    "      - **MAE**: 0.17046033421544568\n",
    "   \n",
    "2. **Random Forest Regression model**\n",
    "      - **R2**: 0.7893049432989383\n",
    "      - **MSE**: 0.05561126649683585\n",
    "      - **RMSE**: 0.23582041153563416\n",
    "      - **MAE**: 0.17514881786467343\n",
    "   \n",
    "3. **Tuned Decision Tree Model using Randomized Search CV**\n",
    "      - **R2**: 0.7797282957974705\n",
    "      - **MSE**: 0.05813894562082217\n",
    "      - **RMSE**: 0.24112018916055572\n",
    "      - **MAE**: 0.17969697817548377\n",
    "   \n",
    "4. **Gradient Boosting Regression model**\n",
    "      - **R2**: 0.7741093745178019\n",
    "      - **MSE**: 0.059622014723633314\n",
    "      - **RMSE**: 0.2441761960626656\n",
    "      - **MAE**: 0.1856554837009077\n",
    "   \n",
    "5. **Decision Tree Regression model**\n",
    "      - **R2**: 0.7372533974775062\n",
    "      - **MSE**: 0.06934985358839214\n",
    "      - **RMSE**: 0.26334360365953857\n",
    "      - **MAE**: 0.19150419924915607\n",
    "   \n",
    "6. **Support Vector Regressor model**\n",
    "      - **R2**: 0.7538597964292906\n",
    "      - **MSE**: 0.06496672807932648\n",
    "      - **RMSE**: 0.2548857157224125\n",
    "      - **MAE**: 0.19264943781122293\n",
    "   \n",
    "7. **Ridge model**\n",
    "      - **R2**: 0.5187022758871165\n",
    "      - **MSE**: 0.1270346652600287\n",
    "      - **RMSE**: 0.35641922683832405\n",
    "      - **MAE**: 0.2831430491646807\n",
    "   \n",
    "8. **Linear Regression model**\n",
    "      - **R2**: 0.5187003639443211\n",
    "      - **MSE**: 0.12703516990195998\n",
    "      - **RMSE**: 0.35641993477071393\n",
    "      - **MAE**: 0.2831437864815163\n",
    "   \n",
    "9. **Lasso model**\n",
    "      - **R2**: -2.1941926533486367e-05\n",
    "      - **MSE**: 0.2639477526711215\n",
    "      - **RMSE**: 0.513758457517851\n",
    "      - **MAE**: 0.4102779011976301\n",
    "\n",
    "    Based on the above metrics, the **Tuned Random Forest Regression model** using Randomized Search CV is the best performing model. It has the highest testing score (R2) of 0.8017764493321988, indicating that it can explain approximately 80.17% of the variability in the target variable. It also has the lowest MSE and RMSE, suggesting better accuracy and lower errors in prediction price. \n",
    "    \n",
    "    Therefore, the **Tuned Random Forest Regression model** is selected as the best model for predicting house prices in this scenario."
   ]
  },
  {
   "cell_type": "markdown",
   "id": "6496060d",
   "metadata": {},
   "source": [
    "## Save and test the model"
   ]
  },
  {
   "cell_type": "code",
   "execution_count": 30,
   "id": "7678f9fe",
   "metadata": {},
   "outputs": [],
   "source": [
    "# Saving model\n",
    "pickle.dump(best_rf_model, open('../Trained_Model/model.pkl','wb'))"
   ]
  },
  {
   "cell_type": "code",
   "execution_count": 31,
   "id": "488eb907",
   "metadata": {},
   "outputs": [],
   "source": [
    "# Create a dataframe\n",
    "test_df = pd.DataFrame({\n",
    "    \"Suburb\": [2],\n",
    "    \"Rooms\": [2],\n",
    "    \"Type\": [1],\n",
    "    \"Distance\": [5],\n",
    "    \"Bathroom\": [2],\n",
    "    \"Car\": [2],\n",
    "    \"Region\": [1],\n",
    "})\n",
    "\n",
    "# Create the index\n",
    "index_ = ['0']\n",
    "\n",
    "# Set the index\n",
    "test_df.index = index_"
   ]
  },
  {
   "cell_type": "code",
   "execution_count": 32,
   "id": "73c2662e",
   "metadata": {},
   "outputs": [
    {
     "name": "stdout",
     "output_type": "stream",
     "text": [
      "[13.5616448]\n"
     ]
    }
   ],
   "source": [
    "# Loading model to compare the results\n",
    "model = pickle.load(open('../Trained_Model/model.pkl','rb'))\n",
    "print(model.predict(test_df))"
   ]
  },
  {
   "cell_type": "code",
   "execution_count": 33,
   "id": "8d898bac",
   "metadata": {},
   "outputs": [
    {
     "name": "stdout",
     "output_type": "stream",
     "text": [
      "[775795.93596053]\n"
     ]
    }
   ],
   "source": [
    "# Load the trained model from a pickle file\n",
    "with open('../Trained_Model/model.pkl', 'rb') as file:\n",
    "    model = pickle.load(file)\n",
    "\n",
    "# Use the model to predict Log_Price\n",
    "log_price_predictions = model.predict(test_df)\n",
    "\n",
    "# Convert the log price predictions back to actual prices\n",
    "price_predictions = np.exp(log_price_predictions)\n",
    "print(price_predictions)"
   ]
  },
  {
   "cell_type": "code",
   "execution_count": null,
   "id": "baf7d734",
   "metadata": {},
   "outputs": [],
   "source": []
  }
 ],
 "metadata": {
  "kernelspec": {
   "display_name": "Python 3 (ipykernel)",
   "language": "python",
   "name": "python3"
  },
  "language_info": {
   "codemirror_mode": {
    "name": "ipython",
    "version": 3
   },
   "file_extension": ".py",
   "mimetype": "text/x-python",
   "name": "python",
   "nbconvert_exporter": "python",
   "pygments_lexer": "ipython3",
   "version": "3.10.11"
  }
 },
 "nbformat": 4,
 "nbformat_minor": 5
}
