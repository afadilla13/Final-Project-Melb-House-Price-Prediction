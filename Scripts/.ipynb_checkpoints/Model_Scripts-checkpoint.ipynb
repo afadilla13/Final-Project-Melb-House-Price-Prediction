{
 "cells": [
  {
   "cell_type": "code",
   "execution_count": 77,
   "id": "e6bb779b",
   "metadata": {},
   "outputs": [],
   "source": [
    "# Importing necessary libraries\n",
    "import numpy as np\n",
    "import pandas as pd\n",
    "from sklearn.preprocessing import LabelEncoder\n",
    "from sklearn.preprocessing import StandardScaler\n",
    "from sklearn.model_selection import train_test_split, RandomizedSearchCV\n",
    "from sklearn.linear_model import LinearRegression, Ridge, Lasso\n",
    "from sklearn.ensemble import RandomForestRegressor\n",
    "from sklearn.tree import DecisionTreeRegressor\n",
    "from sklearn.metrics import r2_score\n",
    "from sklearn.model_selection import GridSearchCV\n",
    "from sklearn.metrics import mean_squared_error as mse\n",
    "from sklearn.svm import SVR\n",
    "import pickle"
   ]
  },
  {
   "cell_type": "code",
   "execution_count": 78,
   "id": "c1bd759f",
   "metadata": {},
   "outputs": [
    {
     "data": {
      "text/html": [
       "<div>\n",
       "<style scoped>\n",
       "    .dataframe tbody tr th:only-of-type {\n",
       "        vertical-align: middle;\n",
       "    }\n",
       "\n",
       "    .dataframe tbody tr th {\n",
       "        vertical-align: top;\n",
       "    }\n",
       "\n",
       "    .dataframe thead th {\n",
       "        text-align: right;\n",
       "    }\n",
       "</style>\n",
       "<table border=\"1\" class=\"dataframe\">\n",
       "  <thead>\n",
       "    <tr style=\"text-align: right;\">\n",
       "      <th></th>\n",
       "      <th>Rooms</th>\n",
       "      <th>Type</th>\n",
       "      <th>Price</th>\n",
       "      <th>Distance</th>\n",
       "      <th>Bathroom</th>\n",
       "      <th>Car</th>\n",
       "      <th>Region</th>\n",
       "      <th>Log_Price</th>\n",
       "    </tr>\n",
       "  </thead>\n",
       "  <tbody>\n",
       "    <tr>\n",
       "      <th>0</th>\n",
       "      <td>2</td>\n",
       "      <td>h</td>\n",
       "      <td>1480000.0</td>\n",
       "      <td>2.5</td>\n",
       "      <td>1.0</td>\n",
       "      <td>1.0</td>\n",
       "      <td>Northern Metropolitan</td>\n",
       "      <td>14.207553</td>\n",
       "    </tr>\n",
       "    <tr>\n",
       "      <th>1</th>\n",
       "      <td>2</td>\n",
       "      <td>h</td>\n",
       "      <td>1035000.0</td>\n",
       "      <td>2.5</td>\n",
       "      <td>1.0</td>\n",
       "      <td>0.0</td>\n",
       "      <td>Northern Metropolitan</td>\n",
       "      <td>13.849913</td>\n",
       "    </tr>\n",
       "    <tr>\n",
       "      <th>2</th>\n",
       "      <td>3</td>\n",
       "      <td>h</td>\n",
       "      <td>1465000.0</td>\n",
       "      <td>2.5</td>\n",
       "      <td>2.0</td>\n",
       "      <td>0.0</td>\n",
       "      <td>Northern Metropolitan</td>\n",
       "      <td>14.197366</td>\n",
       "    </tr>\n",
       "    <tr>\n",
       "      <th>3</th>\n",
       "      <td>3</td>\n",
       "      <td>h</td>\n",
       "      <td>850000.0</td>\n",
       "      <td>2.5</td>\n",
       "      <td>2.0</td>\n",
       "      <td>1.0</td>\n",
       "      <td>Northern Metropolitan</td>\n",
       "      <td>13.652993</td>\n",
       "    </tr>\n",
       "    <tr>\n",
       "      <th>4</th>\n",
       "      <td>4</td>\n",
       "      <td>h</td>\n",
       "      <td>1600000.0</td>\n",
       "      <td>2.5</td>\n",
       "      <td>1.0</td>\n",
       "      <td>2.0</td>\n",
       "      <td>Northern Metropolitan</td>\n",
       "      <td>14.285515</td>\n",
       "    </tr>\n",
       "  </tbody>\n",
       "</table>\n",
       "</div>"
      ],
      "text/plain": [
       "   Rooms Type      Price  Distance  Bathroom  Car                 Region  \\\n",
       "0      2    h  1480000.0       2.5       1.0  1.0  Northern Metropolitan   \n",
       "1      2    h  1035000.0       2.5       1.0  0.0  Northern Metropolitan   \n",
       "2      3    h  1465000.0       2.5       2.0  0.0  Northern Metropolitan   \n",
       "3      3    h   850000.0       2.5       2.0  1.0  Northern Metropolitan   \n",
       "4      4    h  1600000.0       2.5       1.0  2.0  Northern Metropolitan   \n",
       "\n",
       "   Log_Price  \n",
       "0  14.207553  \n",
       "1  13.849913  \n",
       "2  14.197366  \n",
       "3  13.652993  \n",
       "4  14.285515  "
      ]
     },
     "execution_count": 78,
     "metadata": {},
     "output_type": "execute_result"
    }
   ],
   "source": [
    "# Reading the cleaned dataset\n",
    "cleaned_df = pd.read_csv('..\\Cleaned_Data\\Cleaned_Data_LogPrice.csv')\n",
    "cleaned_df.head()"
   ]
  },
  {
   "cell_type": "code",
   "execution_count": 79,
   "id": "ef6d8bd1",
   "metadata": {},
   "outputs": [
    {
     "data": {
      "text/plain": [
       "{'h': 0, 't': 1, 'u': 2}"
      ]
     },
     "execution_count": 79,
     "metadata": {},
     "output_type": "execute_result"
    }
   ],
   "source": [
    "# Enumerate Type\n",
    "encode = LabelEncoder().fit(cleaned_df['Type'])\n",
    "carpet = {x: i for i, x in enumerate(encode.classes_)}\n",
    "carpet"
   ]
  },
  {
   "cell_type": "code",
   "execution_count": 80,
   "id": "ca0e654b",
   "metadata": {},
   "outputs": [
    {
     "data": {
      "text/plain": [
       "{'Eastern Metropolitan': 0,\n",
       " 'Eastern Victoria': 1,\n",
       " 'Northern Metropolitan': 2,\n",
       " 'Northern Victoria': 3,\n",
       " 'South-Eastern Metropolitan': 4,\n",
       " 'Southern Metropolitan': 5,\n",
       " 'Western Metropolitan': 6,\n",
       " 'Western Victoria': 7}"
      ]
     },
     "execution_count": 80,
     "metadata": {},
     "output_type": "execute_result"
    }
   ],
   "source": [
    "# Enumerate Region\n",
    "encoder = LabelEncoder().fit(cleaned_df['Region'])\n",
    "carp = {x: i for i, x in enumerate(encoder.classes_)}\n",
    "carp"
   ]
  },
  {
   "cell_type": "code",
   "execution_count": 81,
   "id": "f73fbf09",
   "metadata": {},
   "outputs": [
    {
     "data": {
      "text/plain": [
       "0        0\n",
       "1        0\n",
       "2        0\n",
       "3        0\n",
       "4        0\n",
       "        ..\n",
       "17693    0\n",
       "17694    0\n",
       "17695    0\n",
       "17696    1\n",
       "17697    0\n",
       "Name: Type, Length: 17698, dtype: int32"
      ]
     },
     "execution_count": 81,
     "metadata": {},
     "output_type": "execute_result"
    }
   ],
   "source": [
    "# Convert to numerical variable \n",
    "cleaned_df['Type'] = LabelEncoder().fit_transform(cleaned_df['Type'])\n",
    "cleaned_df['Type']"
   ]
  },
  {
   "cell_type": "code",
   "execution_count": 82,
   "id": "a869d65d",
   "metadata": {},
   "outputs": [
    {
     "data": {
      "text/plain": [
       "0        2\n",
       "1        2\n",
       "2        2\n",
       "3        2\n",
       "4        2\n",
       "        ..\n",
       "17693    2\n",
       "17694    6\n",
       "17695    6\n",
       "17696    6\n",
       "17697    6\n",
       "Name: Region, Length: 17698, dtype: int32"
      ]
     },
     "execution_count": 82,
     "metadata": {},
     "output_type": "execute_result"
    }
   ],
   "source": [
    "cleaned_df['Region'] = LabelEncoder().fit_transform(cleaned_df['Region'])\n",
    "cleaned_df['Region']"
   ]
  },
  {
   "cell_type": "code",
   "execution_count": 83,
   "id": "44594ed9",
   "metadata": {},
   "outputs": [
    {
     "data": {
      "text/html": [
       "<div>\n",
       "<style scoped>\n",
       "    .dataframe tbody tr th:only-of-type {\n",
       "        vertical-align: middle;\n",
       "    }\n",
       "\n",
       "    .dataframe tbody tr th {\n",
       "        vertical-align: top;\n",
       "    }\n",
       "\n",
       "    .dataframe thead th {\n",
       "        text-align: right;\n",
       "    }\n",
       "</style>\n",
       "<table border=\"1\" class=\"dataframe\">\n",
       "  <thead>\n",
       "    <tr style=\"text-align: right;\">\n",
       "      <th></th>\n",
       "      <th>Rooms</th>\n",
       "      <th>Type</th>\n",
       "      <th>Distance</th>\n",
       "      <th>Bathroom</th>\n",
       "      <th>Car</th>\n",
       "      <th>Region</th>\n",
       "    </tr>\n",
       "  </thead>\n",
       "  <tbody>\n",
       "    <tr>\n",
       "      <th>0</th>\n",
       "      <td>2</td>\n",
       "      <td>0</td>\n",
       "      <td>2.5</td>\n",
       "      <td>1.0</td>\n",
       "      <td>1.0</td>\n",
       "      <td>2</td>\n",
       "    </tr>\n",
       "    <tr>\n",
       "      <th>1</th>\n",
       "      <td>2</td>\n",
       "      <td>0</td>\n",
       "      <td>2.5</td>\n",
       "      <td>1.0</td>\n",
       "      <td>0.0</td>\n",
       "      <td>2</td>\n",
       "    </tr>\n",
       "    <tr>\n",
       "      <th>2</th>\n",
       "      <td>3</td>\n",
       "      <td>0</td>\n",
       "      <td>2.5</td>\n",
       "      <td>2.0</td>\n",
       "      <td>0.0</td>\n",
       "      <td>2</td>\n",
       "    </tr>\n",
       "    <tr>\n",
       "      <th>3</th>\n",
       "      <td>3</td>\n",
       "      <td>0</td>\n",
       "      <td>2.5</td>\n",
       "      <td>2.0</td>\n",
       "      <td>1.0</td>\n",
       "      <td>2</td>\n",
       "    </tr>\n",
       "    <tr>\n",
       "      <th>4</th>\n",
       "      <td>4</td>\n",
       "      <td>0</td>\n",
       "      <td>2.5</td>\n",
       "      <td>1.0</td>\n",
       "      <td>2.0</td>\n",
       "      <td>2</td>\n",
       "    </tr>\n",
       "    <tr>\n",
       "      <th>...</th>\n",
       "      <td>...</td>\n",
       "      <td>...</td>\n",
       "      <td>...</td>\n",
       "      <td>...</td>\n",
       "      <td>...</td>\n",
       "      <td>...</td>\n",
       "    </tr>\n",
       "    <tr>\n",
       "      <th>17693</th>\n",
       "      <td>3</td>\n",
       "      <td>0</td>\n",
       "      <td>25.5</td>\n",
       "      <td>2.0</td>\n",
       "      <td>2.0</td>\n",
       "      <td>2</td>\n",
       "    </tr>\n",
       "    <tr>\n",
       "      <th>17694</th>\n",
       "      <td>4</td>\n",
       "      <td>0</td>\n",
       "      <td>6.3</td>\n",
       "      <td>1.0</td>\n",
       "      <td>3.0</td>\n",
       "      <td>6</td>\n",
       "    </tr>\n",
       "    <tr>\n",
       "      <th>17695</th>\n",
       "      <td>2</td>\n",
       "      <td>0</td>\n",
       "      <td>6.3</td>\n",
       "      <td>2.0</td>\n",
       "      <td>1.0</td>\n",
       "      <td>6</td>\n",
       "    </tr>\n",
       "    <tr>\n",
       "      <th>17696</th>\n",
       "      <td>2</td>\n",
       "      <td>1</td>\n",
       "      <td>6.3</td>\n",
       "      <td>1.0</td>\n",
       "      <td>2.0</td>\n",
       "      <td>6</td>\n",
       "    </tr>\n",
       "    <tr>\n",
       "      <th>17697</th>\n",
       "      <td>2</td>\n",
       "      <td>0</td>\n",
       "      <td>6.3</td>\n",
       "      <td>1.0</td>\n",
       "      <td>0.0</td>\n",
       "      <td>6</td>\n",
       "    </tr>\n",
       "  </tbody>\n",
       "</table>\n",
       "<p>17698 rows × 6 columns</p>\n",
       "</div>"
      ],
      "text/plain": [
       "       Rooms  Type  Distance  Bathroom  Car  Region\n",
       "0          2     0       2.5       1.0  1.0       2\n",
       "1          2     0       2.5       1.0  0.0       2\n",
       "2          3     0       2.5       2.0  0.0       2\n",
       "3          3     0       2.5       2.0  1.0       2\n",
       "4          4     0       2.5       1.0  2.0       2\n",
       "...      ...   ...       ...       ...  ...     ...\n",
       "17693      3     0      25.5       2.0  2.0       2\n",
       "17694      4     0       6.3       1.0  3.0       6\n",
       "17695      2     0       6.3       2.0  1.0       6\n",
       "17696      2     1       6.3       1.0  2.0       6\n",
       "17697      2     0       6.3       1.0  0.0       6\n",
       "\n",
       "[17698 rows x 6 columns]"
      ]
     },
     "execution_count": 83,
     "metadata": {},
     "output_type": "execute_result"
    }
   ],
   "source": [
    "# Convert categorical data to numeric and separate target feature for training data\n",
    "X = cleaned_df.drop([\"Log_Price\", 'Price'],  axis = 1)\n",
    "\n",
    "y = cleaned_df['Price']\n",
    "\n",
    "X"
   ]
  },
  {
   "cell_type": "code",
   "execution_count": 84,
   "id": "9ce985b3",
   "metadata": {},
   "outputs": [
    {
     "name": "stdout",
     "output_type": "stream",
     "text": [
      "<class 'pandas.core.frame.DataFrame'>\n",
      "RangeIndex: 17698 entries, 0 to 17697\n",
      "Data columns (total 6 columns):\n",
      " #   Column    Non-Null Count  Dtype  \n",
      "---  ------    --------------  -----  \n",
      " 0   Rooms     17698 non-null  int64  \n",
      " 1   Type      17698 non-null  int32  \n",
      " 2   Distance  17698 non-null  float64\n",
      " 3   Bathroom  17698 non-null  float64\n",
      " 4   Car       17698 non-null  float64\n",
      " 5   Region    17698 non-null  int32  \n",
      "dtypes: float64(3), int32(2), int64(1)\n",
      "memory usage: 691.5 KB\n"
     ]
    }
   ],
   "source": [
    "X.info()"
   ]
  },
  {
   "cell_type": "code",
   "execution_count": 85,
   "id": "b6b53645",
   "metadata": {},
   "outputs": [],
   "source": [
    "# split data\n",
    "X_train, X_test, y_train, y_test = train_test_split(X, y, test_size = 0.2, random_state = 42)\n",
    "\n",
    "#Scale data\n",
    "scaler = StandardScaler().fit(X_train)\n",
    "X_train_scaled = scaler.transform(X_train)\n",
    "X_test_scaled = scaler.transform(X_test)"
   ]
  },
  {
   "cell_type": "markdown",
   "id": "b8eaaedb",
   "metadata": {},
   "source": [
    "# Data Modeling"
   ]
  },
  {
   "cell_type": "markdown",
   "id": "0b3d4a9d",
   "metadata": {},
   "source": [
    "## Linear Regression model"
   ]
  },
  {
   "cell_type": "code",
   "execution_count": 86,
   "id": "90c01c2a",
   "metadata": {},
   "outputs": [],
   "source": [
    "# Fit the Linear Regression model with data\n",
    "model_lr = LinearRegression().fit(X_train_scaled, y_train)"
   ]
  },
  {
   "cell_type": "code",
   "execution_count": 87,
   "id": "2ff13009",
   "metadata": {},
   "outputs": [],
   "source": [
    "# Calculate training and testing score \n",
    "training_score = model_lr.score(X_train_scaled, y_train)\n",
    "testing_score = model_lr.score(X_test_scaled, y_test)"
   ]
  },
  {
   "cell_type": "code",
   "execution_count": 88,
   "id": "f9619118",
   "metadata": {},
   "outputs": [
    {
     "name": "stdout",
     "output_type": "stream",
     "text": [
      "Model: Linear Regression\n",
      "Training Score: 0.4319944823019949\n",
      "Testing Score: 0.3916199619836014\n"
     ]
    }
   ],
   "source": [
    "# Print the training and testing score\n",
    "print(f\"Model: Linear Regression\")\n",
    "print(f\"Training Score: {training_score}\")\n",
    "print(f\"Testing Score: {testing_score}\")"
   ]
  },
  {
   "cell_type": "markdown",
   "id": "ac72e4f3",
   "metadata": {},
   "source": [
    "## Random Forest model"
   ]
  },
  {
   "cell_type": "code",
   "execution_count": 89,
   "id": "c42d59c9",
   "metadata": {},
   "outputs": [],
   "source": [
    "# Fit the Random Forest model with data\n",
    "model_rf = RandomForestRegressor(n_estimators = 100, criterion = 'squared_error',\n",
    "                              random_state = 42,\n",
    "                             max_depth = 2).fit(X_train, y_train)"
   ]
  },
  {
   "cell_type": "code",
   "execution_count": 90,
   "id": "0380c9b4",
   "metadata": {},
   "outputs": [],
   "source": [
    "# Calculate the training and testing score\n",
    "training_score = model_rf.score(X_train, y_train)\n",
    "testing_score = model_rf.score(X_test, y_test)"
   ]
  },
  {
   "cell_type": "code",
   "execution_count": 91,
   "id": "2abe6966",
   "metadata": {},
   "outputs": [
    {
     "name": "stdout",
     "output_type": "stream",
     "text": [
      "Model: Randomized Search CV\n",
      "Training Score: 0.344073849439102\n",
      "Testing Score: 0.32116465134583405\n"
     ]
    }
   ],
   "source": [
    "# Print the training testing score\n",
    "print(f\"Model: Randomized Search CV\")\n",
    "print(f\"Training Score: {training_score}\")\n",
    "print(f\"Testing Score: {testing_score}\")"
   ]
  },
  {
   "cell_type": "markdown",
   "id": "56efa29f",
   "metadata": {},
   "source": [
    "## Decision Tree model"
   ]
  },
  {
   "cell_type": "code",
   "execution_count": 92,
   "id": "c0806050",
   "metadata": {},
   "outputs": [],
   "source": [
    "# Fit the Decision Tree model with data\n",
    "model_tree = DecisionTreeRegressor(criterion='squared_error', \n",
    "                                  splitter='best', max_depth=None, \n",
    "                                  min_samples_split=2,min_samples_leaf=1, \n",
    "                                  min_weight_fraction_leaf=0.0,max_features=None, \n",
    "                                  random_state= 42, max_leaf_nodes=None, \n",
    "                                  min_impurity_decrease=0.0, ccp_alpha=0.0,).fit(X_train, y_train)"
   ]
  },
  {
   "cell_type": "code",
   "execution_count": 93,
   "id": "66eed3c1",
   "metadata": {},
   "outputs": [],
   "source": [
    "# Calculate training and testing score \n",
    "training_score = model_tree.score(X_train, y_train)\n",
    "testing_score = model_tree.score(X_test, y_test)"
   ]
  },
  {
   "cell_type": "code",
   "execution_count": 94,
   "id": "2c5d063a",
   "metadata": {},
   "outputs": [
    {
     "name": "stdout",
     "output_type": "stream",
     "text": [
      "Model: Decision Tree Regressor\n",
      "Training Score: 0.8817107006845171\n",
      "Testing Score: 0.570292985099475\n"
     ]
    }
   ],
   "source": [
    "# Print the training testing score\n",
    "print(f\"Model: Decision Tree Regressor\")\n",
    "print(f\"Training Score: {training_score}\")\n",
    "print(f\"Testing Score: {testing_score}\")"
   ]
  },
  {
   "cell_type": "markdown",
   "id": "fddd6de0",
   "metadata": {},
   "source": [
    "## Randomized Search CV model"
   ]
  },
  {
   "cell_type": "code",
   "execution_count": 95,
   "id": "7e1f2998",
   "metadata": {},
   "outputs": [],
   "source": [
    "# Fit the Randomized Search model with data\n",
    "param_dists = {'criterion' : ['squared_error', 'friedman_mse',], \n",
    "                       'max_depth': [3,4,7, None],\n",
    "                        'min_samples_split':np.arange(0.1, 1.1, 0.1),\n",
    "                        'min_samples_leaf' : list(range(1, 21)), \n",
    "                        'max_features' : ['sqrt', 'log2', None]}\n",
    "\n",
    "model_cv = RandomizedSearchCV(estimator = RandomForestRegressor(random_state= 42), \n",
    "                              param_distributions = param_dists,  n_iter=200, \n",
    "                              scoring= 'neg_mean_squared_error',\n",
    "                              cv=5, random_state= 42).fit(X_train_scaled, y_train)"
   ]
  },
  {
   "cell_type": "code",
   "execution_count": 96,
   "id": "469697b3",
   "metadata": {},
   "outputs": [],
   "source": [
    "# Calculate training and testing score \n",
    "training_score = model_cv.score(X_train_scaled, y_train)\n",
    "testing_score = model_cv.score(X_test_scaled, y_test)"
   ]
  },
  {
   "cell_type": "code",
   "execution_count": 97,
   "id": "a19a1e25",
   "metadata": {},
   "outputs": [
    {
     "name": "stdout",
     "output_type": "stream",
     "text": [
      "Model: Randomized Search CV\n",
      "Training Score: -223743259738.23077\n",
      "Testing Score: -244606256995.22253\n"
     ]
    }
   ],
   "source": [
    "# Print the training testing score\n",
    "print(f\"Model: Randomized Search CV\")\n",
    "print(f\"Training Score: {training_score}\")\n",
    "print(f\"Testing Score: {testing_score}\")"
   ]
  },
  {
   "cell_type": "markdown",
   "id": "70c71b60",
   "metadata": {},
   "source": [
    "## Support Vector Regressor model"
   ]
  },
  {
   "cell_type": "code",
   "execution_count": 98,
   "id": "7248f2ce",
   "metadata": {},
   "outputs": [],
   "source": [
    "# Fit the Support Vector Regressor model with data\n",
    "model_svr = SVR(kernel = \"rbf\").fit(X_train_scaled, y_train)"
   ]
  },
  {
   "cell_type": "code",
   "execution_count": 99,
   "id": "5fa22843",
   "metadata": {},
   "outputs": [],
   "source": [
    "# Calculate training and testing score \n",
    "training_score = model_svr.score(X_train_scaled, y_train)\n",
    "testing_score = model_svr.score(X_test_scaled, y_test)"
   ]
  },
  {
   "cell_type": "code",
   "execution_count": 100,
   "id": "48452396",
   "metadata": {},
   "outputs": [
    {
     "name": "stdout",
     "output_type": "stream",
     "text": [
      "Model: Support Vector Regressor\n",
      "Training Score: -0.0739590262409262\n",
      "Testing Score: -0.07186018130933003\n"
     ]
    }
   ],
   "source": [
    "# Print the training testing score\n",
    "print(f\"Model: Support Vector Regressor\")\n",
    "print(f\"Training Score: {training_score}\")\n",
    "print(f\"Testing Score: {testing_score}\")"
   ]
  },
  {
   "cell_type": "markdown",
   "id": "61d1d1ed",
   "metadata": {},
   "source": [
    "## Lasso model"
   ]
  },
  {
   "cell_type": "code",
   "execution_count": 101,
   "id": "ec5cce68",
   "metadata": {},
   "outputs": [],
   "source": [
    "# Fit the Lasso model with data\n",
    "model_lasso = Lasso(alpha =1.0 , max_iter = 1000).fit(X_train_scaled, y_train)"
   ]
  },
  {
   "cell_type": "code",
   "execution_count": 102,
   "id": "c7332fe0",
   "metadata": {},
   "outputs": [],
   "source": [
    "# Calculate training and testing score \n",
    "training_score = model_lasso.score(X_train_scaled, y_train)\n",
    "testing_score = model_lasso.score(X_test_scaled, y_test)"
   ]
  },
  {
   "cell_type": "code",
   "execution_count": 103,
   "id": "fa95c37f",
   "metadata": {},
   "outputs": [
    {
     "name": "stdout",
     "output_type": "stream",
     "text": [
      "Model: Lasso Regression\n",
      "Training Score: 0.43199448229025583\n",
      "Testing Score: 0.39162012134173785\n"
     ]
    }
   ],
   "source": [
    "# Print the training testing score\n",
    "print(f\"Model: Lasso Regression\")\n",
    "print(f\"Training Score: {training_score}\")\n",
    "print(f\"Testing Score: {testing_score}\")"
   ]
  },
  {
   "cell_type": "markdown",
   "id": "bb9eec03",
   "metadata": {},
   "source": [
    "## Ridge model"
   ]
  },
  {
   "cell_type": "code",
   "execution_count": 104,
   "id": "626ec589",
   "metadata": {},
   "outputs": [],
   "source": [
    "# Fit the Ridge model with data\n",
    "model_ridge = Ridge(alpha = 100).fit(X_train, y_train)"
   ]
  },
  {
   "cell_type": "code",
   "execution_count": 105,
   "id": "7b29589a",
   "metadata": {},
   "outputs": [],
   "source": [
    "# Calculate training and testing score \n",
    "training_score = model_ridge.score(X_train, y_train)\n",
    "testing_score = model_ridge.score(X_test, y_test)"
   ]
  },
  {
   "cell_type": "code",
   "execution_count": 106,
   "id": "d1f98139",
   "metadata": {},
   "outputs": [
    {
     "name": "stdout",
     "output_type": "stream",
     "text": [
      "Model: Ridge Regression\n",
      "Training Score: 0.43196974006724675\n",
      "Testing Score: 0.3919629977245954\n"
     ]
    }
   ],
   "source": [
    "# Print the training testing score\n",
    "print(f\"Model: Ridge Regression\")\n",
    "print(f\"Training Score: {training_score}\")\n",
    "print(f\"Testing Score: {testing_score}\")"
   ]
  },
  {
   "cell_type": "markdown",
   "id": "89760fb9",
   "metadata": {},
   "source": [
    "## Tuning Decision Tree Model"
   ]
  },
  {
   "cell_type": "code",
   "execution_count": 107,
   "id": "838f7cab",
   "metadata": {},
   "outputs": [
    {
     "name": "stdout",
     "output_type": "stream",
     "text": [
      "Fitting 5 folds for each of 405 candidates, totalling 2025 fits\n"
     ]
    },
    {
     "data": {
      "text/plain": [
       "{'ccp_alpha': 0.0,\n",
       " 'max_depth': None,\n",
       " 'max_features': None,\n",
       " 'min_samples_leaf': 5,\n",
       " 'min_samples_split': 2}"
      ]
     },
     "execution_count": 107,
     "metadata": {},
     "output_type": "execute_result"
    }
   ],
   "source": [
    "# Define the hyperparameters and their possible values\n",
    "param_grid = {\n",
    "    'max_depth': [None, 5, 10, 15, 20],\n",
    "    'min_samples_split': [2, 5, 10],\n",
    "    'min_samples_leaf': [1, 2, 5],\n",
    "    'max_features': [None, 'sqrt', 'log2'],\n",
    "    'ccp_alpha': [0.0, 0.01, 0.1]\n",
    "}\n",
    "\n",
    "# Initialize the Decision Tree Regressor\n",
    "model_tree = DecisionTreeRegressor(random_state=42)\n",
    "\n",
    "# Use GridSearchCV to find the best hyperparameters\n",
    "grid_search = GridSearchCV(model_tree, param_grid, cv=5, scoring='r2', n_jobs=-1, verbose=1)\n",
    "grid_search.fit(X_train, y_train)\n",
    "\n",
    "# Get the best hyperparameters from the grid search\n",
    "best_params = grid_search.best_params_\n",
    "best_params"
   ]
  },
  {
   "cell_type": "code",
   "execution_count": 111,
   "id": "c0117e2e",
   "metadata": {},
   "outputs": [],
   "source": [
    "# Fit the Decision Tree model with data\n",
    "model_tree = DecisionTreeRegressor(criterion='squared_error', \n",
    "                                  splitter='best', max_depth=11, \n",
    "                                  min_samples_split=2,min_samples_leaf=5, \n",
    "                                  min_weight_fraction_leaf=0.0,max_features=None, \n",
    "                                  random_state= 42, max_leaf_nodes=None, \n",
    "                                  min_impurity_decrease=0.0, ccp_alpha=0.0,).fit(X_train, y_train)"
   ]
  },
  {
   "cell_type": "code",
   "execution_count": 112,
   "id": "87c3d7bc",
   "metadata": {},
   "outputs": [],
   "source": [
    "# Calculate training and testing score \n",
    "training_score = model_tree.score(X_train, y_train)\n",
    "testing_score_tuned = model_tree.score(X_test, y_test)"
   ]
  },
  {
   "cell_type": "code",
   "execution_count": 113,
   "id": "82dac12f",
   "metadata": {},
   "outputs": [
    {
     "name": "stdout",
     "output_type": "stream",
     "text": [
      "Model: Decision Tree Regressor\n",
      "Training Score: 0.7554414021233491\n",
      "Testing Score: 0.6471961713517957\n"
     ]
    }
   ],
   "source": [
    "# Print the training testing score\n",
    "print(f\"Model: Decision Tree Regressor\")\n",
    "print(f\"Training Score: {training_score}\")\n",
    "print(f\"Testing Score: {testing_score_tuned}\")"
   ]
  },
  {
   "cell_type": "markdown",
   "id": "5d87332d",
   "metadata": {},
   "source": [
    "## Price Predictions"
   ]
  },
  {
   "cell_type": "code",
   "execution_count": 114,
   "id": "5e342edc",
   "metadata": {},
   "outputs": [
    {
     "name": "stderr",
     "output_type": "stream",
     "text": [
      "C:\\Users\\akbar\\anaconda3\\envs\\dev\\lib\\site-packages\\sklearn\\base.py:458: UserWarning: X has feature names, but LinearRegression was fitted without feature names\n",
      "  warnings.warn(\n"
     ]
    },
    {
     "data": {
      "text/html": [
       "<div>\n",
       "<style scoped>\n",
       "    .dataframe tbody tr th:only-of-type {\n",
       "        vertical-align: middle;\n",
       "    }\n",
       "\n",
       "    .dataframe tbody tr th {\n",
       "        vertical-align: top;\n",
       "    }\n",
       "\n",
       "    .dataframe thead th {\n",
       "        text-align: right;\n",
       "    }\n",
       "</style>\n",
       "<table border=\"1\" class=\"dataframe\">\n",
       "  <thead>\n",
       "    <tr style=\"text-align: right;\">\n",
       "      <th></th>\n",
       "      <th>Prediction</th>\n",
       "      <th>Actual</th>\n",
       "    </tr>\n",
       "  </thead>\n",
       "  <tbody>\n",
       "    <tr>\n",
       "      <th>9681</th>\n",
       "      <td>-1.539581e+06</td>\n",
       "      <td>1060000.0</td>\n",
       "    </tr>\n",
       "    <tr>\n",
       "      <th>11658</th>\n",
       "      <td>-4.262983e+06</td>\n",
       "      <td>1005000.0</td>\n",
       "    </tr>\n",
       "    <tr>\n",
       "      <th>15500</th>\n",
       "      <td>-1.659321e+06</td>\n",
       "      <td>640000.0</td>\n",
       "    </tr>\n",
       "    <tr>\n",
       "      <th>1730</th>\n",
       "      <td>-1.319172e+06</td>\n",
       "      <td>1170000.0</td>\n",
       "    </tr>\n",
       "    <tr>\n",
       "      <th>10302</th>\n",
       "      <td>-4.375818e+05</td>\n",
       "      <td>501000.0</td>\n",
       "    </tr>\n",
       "    <tr>\n",
       "      <th>...</th>\n",
       "      <td>...</td>\n",
       "      <td>...</td>\n",
       "    </tr>\n",
       "    <tr>\n",
       "      <th>12717</th>\n",
       "      <td>-1.362070e+06</td>\n",
       "      <td>670000.0</td>\n",
       "    </tr>\n",
       "    <tr>\n",
       "      <th>9770</th>\n",
       "      <td>-1.911089e+06</td>\n",
       "      <td>830000.0</td>\n",
       "    </tr>\n",
       "    <tr>\n",
       "      <th>4983</th>\n",
       "      <td>-2.659126e+05</td>\n",
       "      <td>850000.0</td>\n",
       "    </tr>\n",
       "    <tr>\n",
       "      <th>9129</th>\n",
       "      <td>-7.308416e+05</td>\n",
       "      <td>2600000.0</td>\n",
       "    </tr>\n",
       "    <tr>\n",
       "      <th>7301</th>\n",
       "      <td>-1.676031e+06</td>\n",
       "      <td>625000.0</td>\n",
       "    </tr>\n",
       "  </tbody>\n",
       "</table>\n",
       "<p>3540 rows × 2 columns</p>\n",
       "</div>"
      ],
      "text/plain": [
       "         Prediction     Actual\n",
       "9681  -1.539581e+06  1060000.0\n",
       "11658 -4.262983e+06  1005000.0\n",
       "15500 -1.659321e+06   640000.0\n",
       "1730  -1.319172e+06  1170000.0\n",
       "10302 -4.375818e+05   501000.0\n",
       "...             ...        ...\n",
       "12717 -1.362070e+06   670000.0\n",
       "9770  -1.911089e+06   830000.0\n",
       "4983  -2.659126e+05   850000.0\n",
       "9129  -7.308416e+05  2600000.0\n",
       "7301  -1.676031e+06   625000.0\n",
       "\n",
       "[3540 rows x 2 columns]"
      ]
     },
     "execution_count": 114,
     "metadata": {},
     "output_type": "execute_result"
    }
   ],
   "source": [
    " # Predict the price with Linear Regression model\n",
    "y_pred = model_lr.predict(X_test)\n",
    "pd.DataFrame({\"Prediction\": y_pred, \"Actual\": y_test})"
   ]
  },
  {
   "cell_type": "code",
   "execution_count": 115,
   "id": "628f7a16",
   "metadata": {},
   "outputs": [
    {
     "data": {
      "text/html": [
       "<div>\n",
       "<style scoped>\n",
       "    .dataframe tbody tr th:only-of-type {\n",
       "        vertical-align: middle;\n",
       "    }\n",
       "\n",
       "    .dataframe tbody tr th {\n",
       "        vertical-align: top;\n",
       "    }\n",
       "\n",
       "    .dataframe thead th {\n",
       "        text-align: right;\n",
       "    }\n",
       "</style>\n",
       "<table border=\"1\" class=\"dataframe\">\n",
       "  <thead>\n",
       "    <tr style=\"text-align: right;\">\n",
       "      <th></th>\n",
       "      <th>Prediction</th>\n",
       "      <th>Actual</th>\n",
       "    </tr>\n",
       "  </thead>\n",
       "  <tbody>\n",
       "    <tr>\n",
       "      <th>9681</th>\n",
       "      <td>1.201201e+06</td>\n",
       "      <td>1060000.0</td>\n",
       "    </tr>\n",
       "    <tr>\n",
       "      <th>11658</th>\n",
       "      <td>1.077926e+06</td>\n",
       "      <td>1005000.0</td>\n",
       "    </tr>\n",
       "    <tr>\n",
       "      <th>15500</th>\n",
       "      <td>1.077926e+06</td>\n",
       "      <td>640000.0</td>\n",
       "    </tr>\n",
       "    <tr>\n",
       "      <th>1730</th>\n",
       "      <td>6.090085e+05</td>\n",
       "      <td>1170000.0</td>\n",
       "    </tr>\n",
       "    <tr>\n",
       "      <th>10302</th>\n",
       "      <td>6.090085e+05</td>\n",
       "      <td>501000.0</td>\n",
       "    </tr>\n",
       "    <tr>\n",
       "      <th>...</th>\n",
       "      <td>...</td>\n",
       "      <td>...</td>\n",
       "    </tr>\n",
       "    <tr>\n",
       "      <th>12717</th>\n",
       "      <td>1.077926e+06</td>\n",
       "      <td>670000.0</td>\n",
       "    </tr>\n",
       "    <tr>\n",
       "      <th>9770</th>\n",
       "      <td>1.077926e+06</td>\n",
       "      <td>830000.0</td>\n",
       "    </tr>\n",
       "    <tr>\n",
       "      <th>4983</th>\n",
       "      <td>1.077926e+06</td>\n",
       "      <td>850000.0</td>\n",
       "    </tr>\n",
       "    <tr>\n",
       "      <th>9129</th>\n",
       "      <td>1.201201e+06</td>\n",
       "      <td>2600000.0</td>\n",
       "    </tr>\n",
       "    <tr>\n",
       "      <th>7301</th>\n",
       "      <td>1.077926e+06</td>\n",
       "      <td>625000.0</td>\n",
       "    </tr>\n",
       "  </tbody>\n",
       "</table>\n",
       "<p>3540 rows × 2 columns</p>\n",
       "</div>"
      ],
      "text/plain": [
       "         Prediction     Actual\n",
       "9681   1.201201e+06  1060000.0\n",
       "11658  1.077926e+06  1005000.0\n",
       "15500  1.077926e+06   640000.0\n",
       "1730   6.090085e+05  1170000.0\n",
       "10302  6.090085e+05   501000.0\n",
       "...             ...        ...\n",
       "12717  1.077926e+06   670000.0\n",
       "9770   1.077926e+06   830000.0\n",
       "4983   1.077926e+06   850000.0\n",
       "9129   1.201201e+06  2600000.0\n",
       "7301   1.077926e+06   625000.0\n",
       "\n",
       "[3540 rows x 2 columns]"
      ]
     },
     "execution_count": 115,
     "metadata": {},
     "output_type": "execute_result"
    }
   ],
   "source": [
    "# Predict the price with Random Forest model \n",
    "y_pred = model_rf.predict(X_test)\n",
    "pd.DataFrame({\"Prediction\": y_pred, \"Actual\": y_test})"
   ]
  },
  {
   "cell_type": "code",
   "execution_count": 116,
   "id": "aeb43d5f",
   "metadata": {},
   "outputs": [
    {
     "data": {
      "text/html": [
       "<div>\n",
       "<style scoped>\n",
       "    .dataframe tbody tr th:only-of-type {\n",
       "        vertical-align: middle;\n",
       "    }\n",
       "\n",
       "    .dataframe tbody tr th {\n",
       "        vertical-align: top;\n",
       "    }\n",
       "\n",
       "    .dataframe thead th {\n",
       "        text-align: right;\n",
       "    }\n",
       "</style>\n",
       "<table border=\"1\" class=\"dataframe\">\n",
       "  <thead>\n",
       "    <tr style=\"text-align: right;\">\n",
       "      <th></th>\n",
       "      <th>Prediction</th>\n",
       "      <th>Actual</th>\n",
       "    </tr>\n",
       "  </thead>\n",
       "  <tbody>\n",
       "    <tr>\n",
       "      <th>9681</th>\n",
       "      <td>1.322240e+06</td>\n",
       "      <td>1060000.0</td>\n",
       "    </tr>\n",
       "    <tr>\n",
       "      <th>11658</th>\n",
       "      <td>7.740625e+05</td>\n",
       "      <td>1005000.0</td>\n",
       "    </tr>\n",
       "    <tr>\n",
       "      <th>15500</th>\n",
       "      <td>5.819167e+05</td>\n",
       "      <td>640000.0</td>\n",
       "    </tr>\n",
       "    <tr>\n",
       "      <th>1730</th>\n",
       "      <td>7.899286e+05</td>\n",
       "      <td>1170000.0</td>\n",
       "    </tr>\n",
       "    <tr>\n",
       "      <th>10302</th>\n",
       "      <td>6.141398e+05</td>\n",
       "      <td>501000.0</td>\n",
       "    </tr>\n",
       "    <tr>\n",
       "      <th>...</th>\n",
       "      <td>...</td>\n",
       "      <td>...</td>\n",
       "    </tr>\n",
       "    <tr>\n",
       "      <th>12717</th>\n",
       "      <td>7.606201e+05</td>\n",
       "      <td>670000.0</td>\n",
       "    </tr>\n",
       "    <tr>\n",
       "      <th>9770</th>\n",
       "      <td>6.696603e+05</td>\n",
       "      <td>830000.0</td>\n",
       "    </tr>\n",
       "    <tr>\n",
       "      <th>4983</th>\n",
       "      <td>9.883276e+05</td>\n",
       "      <td>850000.0</td>\n",
       "    </tr>\n",
       "    <tr>\n",
       "      <th>9129</th>\n",
       "      <td>1.699083e+06</td>\n",
       "      <td>2600000.0</td>\n",
       "    </tr>\n",
       "    <tr>\n",
       "      <th>7301</th>\n",
       "      <td>6.998750e+05</td>\n",
       "      <td>625000.0</td>\n",
       "    </tr>\n",
       "  </tbody>\n",
       "</table>\n",
       "<p>3540 rows × 2 columns</p>\n",
       "</div>"
      ],
      "text/plain": [
       "         Prediction     Actual\n",
       "9681   1.322240e+06  1060000.0\n",
       "11658  7.740625e+05  1005000.0\n",
       "15500  5.819167e+05   640000.0\n",
       "1730   7.899286e+05  1170000.0\n",
       "10302  6.141398e+05   501000.0\n",
       "...             ...        ...\n",
       "12717  7.606201e+05   670000.0\n",
       "9770   6.696603e+05   830000.0\n",
       "4983   9.883276e+05   850000.0\n",
       "9129   1.699083e+06  2600000.0\n",
       "7301   6.998750e+05   625000.0\n",
       "\n",
       "[3540 rows x 2 columns]"
      ]
     },
     "execution_count": 116,
     "metadata": {},
     "output_type": "execute_result"
    }
   ],
   "source": [
    " # Predict the price with Decision Tree model \n",
    "y_pred = model_tree.predict(X_test)\n",
    "pd.DataFrame({\"Prediction\": y_pred, \"Actual\": y_test})"
   ]
  },
  {
   "cell_type": "code",
   "execution_count": 117,
   "id": "daf8ecf6",
   "metadata": {},
   "outputs": [
    {
     "name": "stderr",
     "output_type": "stream",
     "text": [
      "C:\\Users\\akbar\\anaconda3\\envs\\dev\\lib\\site-packages\\sklearn\\base.py:458: UserWarning: X has feature names, but RandomForestRegressor was fitted without feature names\n",
      "  warnings.warn(\n"
     ]
    },
    {
     "data": {
      "text/html": [
       "<div>\n",
       "<style scoped>\n",
       "    .dataframe tbody tr th:only-of-type {\n",
       "        vertical-align: middle;\n",
       "    }\n",
       "\n",
       "    .dataframe tbody tr th {\n",
       "        vertical-align: top;\n",
       "    }\n",
       "\n",
       "    .dataframe thead th {\n",
       "        text-align: right;\n",
       "    }\n",
       "</style>\n",
       "<table border=\"1\" class=\"dataframe\">\n",
       "  <thead>\n",
       "    <tr style=\"text-align: right;\">\n",
       "      <th></th>\n",
       "      <th>Prediction</th>\n",
       "      <th>Actual</th>\n",
       "    </tr>\n",
       "  </thead>\n",
       "  <tbody>\n",
       "    <tr>\n",
       "      <th>9681</th>\n",
       "      <td>1.564581e+06</td>\n",
       "      <td>1060000.0</td>\n",
       "    </tr>\n",
       "    <tr>\n",
       "      <th>11658</th>\n",
       "      <td>1.111903e+06</td>\n",
       "      <td>1005000.0</td>\n",
       "    </tr>\n",
       "    <tr>\n",
       "      <th>15500</th>\n",
       "      <td>1.625938e+06</td>\n",
       "      <td>640000.0</td>\n",
       "    </tr>\n",
       "    <tr>\n",
       "      <th>1730</th>\n",
       "      <td>1.076936e+06</td>\n",
       "      <td>1170000.0</td>\n",
       "    </tr>\n",
       "    <tr>\n",
       "      <th>10302</th>\n",
       "      <td>1.076936e+06</td>\n",
       "      <td>501000.0</td>\n",
       "    </tr>\n",
       "    <tr>\n",
       "      <th>...</th>\n",
       "      <td>...</td>\n",
       "      <td>...</td>\n",
       "    </tr>\n",
       "    <tr>\n",
       "      <th>12717</th>\n",
       "      <td>1.625938e+06</td>\n",
       "      <td>670000.0</td>\n",
       "    </tr>\n",
       "    <tr>\n",
       "      <th>9770</th>\n",
       "      <td>1.128146e+06</td>\n",
       "      <td>830000.0</td>\n",
       "    </tr>\n",
       "    <tr>\n",
       "      <th>4983</th>\n",
       "      <td>1.625938e+06</td>\n",
       "      <td>850000.0</td>\n",
       "    </tr>\n",
       "    <tr>\n",
       "      <th>9129</th>\n",
       "      <td>1.564581e+06</td>\n",
       "      <td>2600000.0</td>\n",
       "    </tr>\n",
       "    <tr>\n",
       "      <th>7301</th>\n",
       "      <td>1.125046e+06</td>\n",
       "      <td>625000.0</td>\n",
       "    </tr>\n",
       "  </tbody>\n",
       "</table>\n",
       "<p>3540 rows × 2 columns</p>\n",
       "</div>"
      ],
      "text/plain": [
       "         Prediction     Actual\n",
       "9681   1.564581e+06  1060000.0\n",
       "11658  1.111903e+06  1005000.0\n",
       "15500  1.625938e+06   640000.0\n",
       "1730   1.076936e+06  1170000.0\n",
       "10302  1.076936e+06   501000.0\n",
       "...             ...        ...\n",
       "12717  1.625938e+06   670000.0\n",
       "9770   1.128146e+06   830000.0\n",
       "4983   1.625938e+06   850000.0\n",
       "9129   1.564581e+06  2600000.0\n",
       "7301   1.125046e+06   625000.0\n",
       "\n",
       "[3540 rows x 2 columns]"
      ]
     },
     "execution_count": 117,
     "metadata": {},
     "output_type": "execute_result"
    }
   ],
   "source": [
    " # Predict the price with Random Search CV model \n",
    "y_pred = model_cv.predict(X_test)\n",
    "pd.DataFrame({\"Prediction\": y_pred, \"Actual\": y_test})"
   ]
  },
  {
   "cell_type": "code",
   "execution_count": 118,
   "id": "c9708a07",
   "metadata": {},
   "outputs": [
    {
     "name": "stderr",
     "output_type": "stream",
     "text": [
      "C:\\Users\\akbar\\anaconda3\\envs\\dev\\lib\\site-packages\\sklearn\\base.py:458: UserWarning: X has feature names, but SVR was fitted without feature names\n",
      "  warnings.warn(\n"
     ]
    },
    {
     "data": {
      "text/html": [
       "<div>\n",
       "<style scoped>\n",
       "    .dataframe tbody tr th:only-of-type {\n",
       "        vertical-align: middle;\n",
       "    }\n",
       "\n",
       "    .dataframe tbody tr th {\n",
       "        vertical-align: top;\n",
       "    }\n",
       "\n",
       "    .dataframe thead th {\n",
       "        text-align: right;\n",
       "    }\n",
       "</style>\n",
       "<table border=\"1\" class=\"dataframe\">\n",
       "  <thead>\n",
       "    <tr style=\"text-align: right;\">\n",
       "      <th></th>\n",
       "      <th>Prediction</th>\n",
       "      <th>Actual</th>\n",
       "    </tr>\n",
       "  </thead>\n",
       "  <tbody>\n",
       "    <tr>\n",
       "      <th>9681</th>\n",
       "      <td>915332.973372</td>\n",
       "      <td>1060000.0</td>\n",
       "    </tr>\n",
       "    <tr>\n",
       "      <th>11658</th>\n",
       "      <td>915332.973372</td>\n",
       "      <td>1005000.0</td>\n",
       "    </tr>\n",
       "    <tr>\n",
       "      <th>15500</th>\n",
       "      <td>915332.973372</td>\n",
       "      <td>640000.0</td>\n",
       "    </tr>\n",
       "    <tr>\n",
       "      <th>1730</th>\n",
       "      <td>915332.973337</td>\n",
       "      <td>1170000.0</td>\n",
       "    </tr>\n",
       "    <tr>\n",
       "      <th>10302</th>\n",
       "      <td>915332.818139</td>\n",
       "      <td>501000.0</td>\n",
       "    </tr>\n",
       "    <tr>\n",
       "      <th>...</th>\n",
       "      <td>...</td>\n",
       "      <td>...</td>\n",
       "    </tr>\n",
       "    <tr>\n",
       "      <th>12717</th>\n",
       "      <td>915332.973332</td>\n",
       "      <td>670000.0</td>\n",
       "    </tr>\n",
       "    <tr>\n",
       "      <th>9770</th>\n",
       "      <td>915332.973371</td>\n",
       "      <td>830000.0</td>\n",
       "    </tr>\n",
       "    <tr>\n",
       "      <th>4983</th>\n",
       "      <td>915332.509455</td>\n",
       "      <td>850000.0</td>\n",
       "    </tr>\n",
       "    <tr>\n",
       "      <th>9129</th>\n",
       "      <td>915332.973341</td>\n",
       "      <td>2600000.0</td>\n",
       "    </tr>\n",
       "    <tr>\n",
       "      <th>7301</th>\n",
       "      <td>915332.973372</td>\n",
       "      <td>625000.0</td>\n",
       "    </tr>\n",
       "  </tbody>\n",
       "</table>\n",
       "<p>3540 rows × 2 columns</p>\n",
       "</div>"
      ],
      "text/plain": [
       "          Prediction     Actual\n",
       "9681   915332.973372  1060000.0\n",
       "11658  915332.973372  1005000.0\n",
       "15500  915332.973372   640000.0\n",
       "1730   915332.973337  1170000.0\n",
       "10302  915332.818139   501000.0\n",
       "...              ...        ...\n",
       "12717  915332.973332   670000.0\n",
       "9770   915332.973371   830000.0\n",
       "4983   915332.509455   850000.0\n",
       "9129   915332.973341  2600000.0\n",
       "7301   915332.973372   625000.0\n",
       "\n",
       "[3540 rows x 2 columns]"
      ]
     },
     "execution_count": 118,
     "metadata": {},
     "output_type": "execute_result"
    }
   ],
   "source": [
    " # Predict the price with Support Vector Regressor model \n",
    "y_pred = model_svr.predict(X_test)\n",
    "pd.DataFrame({\"Prediction\": y_pred, \"Actual\": y_test})"
   ]
  },
  {
   "cell_type": "code",
   "execution_count": 119,
   "id": "3d3788d0",
   "metadata": {},
   "outputs": [
    {
     "name": "stderr",
     "output_type": "stream",
     "text": [
      "C:\\Users\\akbar\\anaconda3\\envs\\dev\\lib\\site-packages\\sklearn\\base.py:458: UserWarning: X has feature names, but Lasso was fitted without feature names\n",
      "  warnings.warn(\n"
     ]
    },
    {
     "data": {
      "text/html": [
       "<div>\n",
       "<style scoped>\n",
       "    .dataframe tbody tr th:only-of-type {\n",
       "        vertical-align: middle;\n",
       "    }\n",
       "\n",
       "    .dataframe tbody tr th {\n",
       "        vertical-align: top;\n",
       "    }\n",
       "\n",
       "    .dataframe thead th {\n",
       "        text-align: right;\n",
       "    }\n",
       "</style>\n",
       "<table border=\"1\" class=\"dataframe\">\n",
       "  <thead>\n",
       "    <tr style=\"text-align: right;\">\n",
       "      <th></th>\n",
       "      <th>Prediction</th>\n",
       "      <th>Actual</th>\n",
       "    </tr>\n",
       "  </thead>\n",
       "  <tbody>\n",
       "    <tr>\n",
       "      <th>9681</th>\n",
       "      <td>-1.539562e+06</td>\n",
       "      <td>1060000.0</td>\n",
       "    </tr>\n",
       "    <tr>\n",
       "      <th>11658</th>\n",
       "      <td>-4.262950e+06</td>\n",
       "      <td>1005000.0</td>\n",
       "    </tr>\n",
       "    <tr>\n",
       "      <th>15500</th>\n",
       "      <td>-1.659308e+06</td>\n",
       "      <td>640000.0</td>\n",
       "    </tr>\n",
       "    <tr>\n",
       "      <th>1730</th>\n",
       "      <td>-1.319160e+06</td>\n",
       "      <td>1170000.0</td>\n",
       "    </tr>\n",
       "    <tr>\n",
       "      <th>10302</th>\n",
       "      <td>-4.375751e+05</td>\n",
       "      <td>501000.0</td>\n",
       "    </tr>\n",
       "    <tr>\n",
       "      <th>...</th>\n",
       "      <td>...</td>\n",
       "      <td>...</td>\n",
       "    </tr>\n",
       "    <tr>\n",
       "      <th>12717</th>\n",
       "      <td>-1.362055e+06</td>\n",
       "      <td>670000.0</td>\n",
       "    </tr>\n",
       "    <tr>\n",
       "      <th>9770</th>\n",
       "      <td>-1.911072e+06</td>\n",
       "      <td>830000.0</td>\n",
       "    </tr>\n",
       "    <tr>\n",
       "      <th>4983</th>\n",
       "      <td>-2.659038e+05</td>\n",
       "      <td>850000.0</td>\n",
       "    </tr>\n",
       "    <tr>\n",
       "      <th>9129</th>\n",
       "      <td>-7.308278e+05</td>\n",
       "      <td>2600000.0</td>\n",
       "    </tr>\n",
       "    <tr>\n",
       "      <th>7301</th>\n",
       "      <td>-1.676016e+06</td>\n",
       "      <td>625000.0</td>\n",
       "    </tr>\n",
       "  </tbody>\n",
       "</table>\n",
       "<p>3540 rows × 2 columns</p>\n",
       "</div>"
      ],
      "text/plain": [
       "         Prediction     Actual\n",
       "9681  -1.539562e+06  1060000.0\n",
       "11658 -4.262950e+06  1005000.0\n",
       "15500 -1.659308e+06   640000.0\n",
       "1730  -1.319160e+06  1170000.0\n",
       "10302 -4.375751e+05   501000.0\n",
       "...             ...        ...\n",
       "12717 -1.362055e+06   670000.0\n",
       "9770  -1.911072e+06   830000.0\n",
       "4983  -2.659038e+05   850000.0\n",
       "9129  -7.308278e+05  2600000.0\n",
       "7301  -1.676016e+06   625000.0\n",
       "\n",
       "[3540 rows x 2 columns]"
      ]
     },
     "execution_count": 119,
     "metadata": {},
     "output_type": "execute_result"
    }
   ],
   "source": [
    " # Predict the price with Lasso model \n",
    "y_pred = model_lasso.predict(X_test)\n",
    "pd.DataFrame({\"Prediction\": y_pred, \"Actual\": y_test})"
   ]
  },
  {
   "cell_type": "code",
   "execution_count": 120,
   "id": "6917cb22",
   "metadata": {},
   "outputs": [
    {
     "data": {
      "text/html": [
       "<div>\n",
       "<style scoped>\n",
       "    .dataframe tbody tr th:only-of-type {\n",
       "        vertical-align: middle;\n",
       "    }\n",
       "\n",
       "    .dataframe tbody tr th {\n",
       "        vertical-align: top;\n",
       "    }\n",
       "\n",
       "    .dataframe thead th {\n",
       "        text-align: right;\n",
       "    }\n",
       "</style>\n",
       "<table border=\"1\" class=\"dataframe\">\n",
       "  <thead>\n",
       "    <tr style=\"text-align: right;\">\n",
       "      <th></th>\n",
       "      <th>Prediction</th>\n",
       "      <th>Actual</th>\n",
       "    </tr>\n",
       "  </thead>\n",
       "  <tbody>\n",
       "    <tr>\n",
       "      <th>9681</th>\n",
       "      <td>1.657678e+06</td>\n",
       "      <td>1060000.0</td>\n",
       "    </tr>\n",
       "    <tr>\n",
       "      <th>11658</th>\n",
       "      <td>4.705740e+05</td>\n",
       "      <td>1005000.0</td>\n",
       "    </tr>\n",
       "    <tr>\n",
       "      <th>15500</th>\n",
       "      <td>1.192144e+06</td>\n",
       "      <td>640000.0</td>\n",
       "    </tr>\n",
       "    <tr>\n",
       "      <th>1730</th>\n",
       "      <td>6.228607e+05</td>\n",
       "      <td>1170000.0</td>\n",
       "    </tr>\n",
       "    <tr>\n",
       "      <th>10302</th>\n",
       "      <td>5.730369e+05</td>\n",
       "      <td>501000.0</td>\n",
       "    </tr>\n",
       "    <tr>\n",
       "      <th>...</th>\n",
       "      <td>...</td>\n",
       "      <td>...</td>\n",
       "    </tr>\n",
       "    <tr>\n",
       "      <th>12717</th>\n",
       "      <td>1.185849e+06</td>\n",
       "      <td>670000.0</td>\n",
       "    </tr>\n",
       "    <tr>\n",
       "      <th>9770</th>\n",
       "      <td>8.790909e+05</td>\n",
       "      <td>830000.0</td>\n",
       "    </tr>\n",
       "    <tr>\n",
       "      <th>4983</th>\n",
       "      <td>1.317508e+06</td>\n",
       "      <td>850000.0</td>\n",
       "    </tr>\n",
       "    <tr>\n",
       "      <th>9129</th>\n",
       "      <td>1.853772e+06</td>\n",
       "      <td>2600000.0</td>\n",
       "    </tr>\n",
       "    <tr>\n",
       "      <th>7301</th>\n",
       "      <td>9.008429e+05</td>\n",
       "      <td>625000.0</td>\n",
       "    </tr>\n",
       "  </tbody>\n",
       "</table>\n",
       "<p>3540 rows × 2 columns</p>\n",
       "</div>"
      ],
      "text/plain": [
       "         Prediction     Actual\n",
       "9681   1.657678e+06  1060000.0\n",
       "11658  4.705740e+05  1005000.0\n",
       "15500  1.192144e+06   640000.0\n",
       "1730   6.228607e+05  1170000.0\n",
       "10302  5.730369e+05   501000.0\n",
       "...             ...        ...\n",
       "12717  1.185849e+06   670000.0\n",
       "9770   8.790909e+05   830000.0\n",
       "4983   1.317508e+06   850000.0\n",
       "9129   1.853772e+06  2600000.0\n",
       "7301   9.008429e+05   625000.0\n",
       "\n",
       "[3540 rows x 2 columns]"
      ]
     },
     "execution_count": 120,
     "metadata": {},
     "output_type": "execute_result"
    }
   ],
   "source": [
    " # Predict the price with Ridge model \n",
    "y_pred = model_ridge.predict(X_test)\n",
    "pd.DataFrame({\"Prediction\": y_pred, \"Actual\": y_test})"
   ]
  },
  {
   "cell_type": "markdown",
   "id": "6496060d",
   "metadata": {},
   "source": [
    "## Save and test the model"
   ]
  },
  {
   "cell_type": "code",
   "execution_count": 121,
   "id": "7678f9fe",
   "metadata": {},
   "outputs": [],
   "source": [
    "# Saving model\n",
    "pickle.dump(model_tree, open('../Trained_Model/model.pkl','wb'))"
   ]
  },
  {
   "cell_type": "code",
   "execution_count": 122,
   "id": "488eb907",
   "metadata": {},
   "outputs": [],
   "source": [
    "test_df = pd.DataFrame({\n",
    "    \"Rooms\": [2],\n",
    "    \"Type\": [1],\n",
    "    \"Distance\": [5],\n",
    "    \"Bathroom\": [2],\n",
    "    \"Car\": [2],\n",
    "    \"Region\": [1],\n",
    "\n",
    "})\n",
    "\n",
    "# Create the index\n",
    "index_ = ['0']\n",
    "\n",
    "# Set the index\n",
    "test_df.index = index_"
   ]
  },
  {
   "cell_type": "code",
   "execution_count": 123,
   "id": "73c2662e",
   "metadata": {},
   "outputs": [
    {
     "name": "stdout",
     "output_type": "stream",
     "text": [
      "[722785.71428571]\n"
     ]
    }
   ],
   "source": [
    "#Loading model to compare the results\n",
    "model = pickle.load(open('../Trained_Model/model.pkl','rb'))\n",
    "print(model.predict(test_df))"
   ]
  },
  {
   "cell_type": "code",
   "execution_count": null,
   "id": "f2a9130d",
   "metadata": {},
   "outputs": [],
   "source": []
  }
 ],
 "metadata": {
  "kernelspec": {
   "display_name": "Python 3 (ipykernel)",
   "language": "python",
   "name": "python3"
  },
  "language_info": {
   "codemirror_mode": {
    "name": "ipython",
    "version": 3
   },
   "file_extension": ".py",
   "mimetype": "text/x-python",
   "name": "python",
   "nbconvert_exporter": "python",
   "pygments_lexer": "ipython3",
   "version": "3.10.11"
  }
 },
 "nbformat": 4,
 "nbformat_minor": 5
}
