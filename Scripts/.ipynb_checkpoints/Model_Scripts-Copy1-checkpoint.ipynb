{
 "cells": [
  {
   "cell_type": "code",
   "execution_count": 18,
   "id": "e6bb779b",
   "metadata": {},
   "outputs": [],
   "source": [
    "# Importing necessary libraries\n",
    "import numpy as np\n",
    "import pandas as pd\n",
    "from sklearn.preprocessing import LabelEncoder\n",
    "from sklearn.preprocessing import StandardScaler\n",
    "from sklearn.model_selection import train_test_split, RandomizedSearchCV\n",
    "from sklearn.linear_model import LinearRegression, Ridge, Lasso\n",
    "from sklearn.ensemble import RandomForestRegressor\n",
    "from sklearn.tree import DecisionTreeRegressor\n",
    "from sklearn.metrics import r2_score\n",
    "from sklearn.model_selection import GridSearchCV\n",
    "from sklearn.metrics import mean_squared_error as mse\n",
    "from sklearn.metrics import mean_squared_error, mean_absolute_error, r2_score\n",
    "from sklearn.svm import SVR\n",
    "import pickle"
   ]
  },
  {
   "cell_type": "code",
   "execution_count": 2,
   "id": "c1bd759f",
   "metadata": {},
   "outputs": [
    {
     "data": {
      "text/html": [
       "<div>\n",
       "<style scoped>\n",
       "    .dataframe tbody tr th:only-of-type {\n",
       "        vertical-align: middle;\n",
       "    }\n",
       "\n",
       "    .dataframe tbody tr th {\n",
       "        vertical-align: top;\n",
       "    }\n",
       "\n",
       "    .dataframe thead th {\n",
       "        text-align: right;\n",
       "    }\n",
       "</style>\n",
       "<table border=\"1\" class=\"dataframe\">\n",
       "  <thead>\n",
       "    <tr style=\"text-align: right;\">\n",
       "      <th></th>\n",
       "      <th>Suburb</th>\n",
       "      <th>Rooms</th>\n",
       "      <th>Type</th>\n",
       "      <th>Price</th>\n",
       "      <th>Distance</th>\n",
       "      <th>Bathroom</th>\n",
       "      <th>Car</th>\n",
       "      <th>Region</th>\n",
       "      <th>Log_Price</th>\n",
       "    </tr>\n",
       "  </thead>\n",
       "  <tbody>\n",
       "    <tr>\n",
       "      <th>0</th>\n",
       "      <td>Abbotsford</td>\n",
       "      <td>2</td>\n",
       "      <td>h</td>\n",
       "      <td>1480000.0</td>\n",
       "      <td>2.5</td>\n",
       "      <td>1.0</td>\n",
       "      <td>1.0</td>\n",
       "      <td>Northern Metropolitan</td>\n",
       "      <td>14.207553</td>\n",
       "    </tr>\n",
       "    <tr>\n",
       "      <th>1</th>\n",
       "      <td>Abbotsford</td>\n",
       "      <td>2</td>\n",
       "      <td>h</td>\n",
       "      <td>1035000.0</td>\n",
       "      <td>2.5</td>\n",
       "      <td>1.0</td>\n",
       "      <td>0.0</td>\n",
       "      <td>Northern Metropolitan</td>\n",
       "      <td>13.849913</td>\n",
       "    </tr>\n",
       "    <tr>\n",
       "      <th>2</th>\n",
       "      <td>Abbotsford</td>\n",
       "      <td>3</td>\n",
       "      <td>h</td>\n",
       "      <td>1465000.0</td>\n",
       "      <td>2.5</td>\n",
       "      <td>2.0</td>\n",
       "      <td>0.0</td>\n",
       "      <td>Northern Metropolitan</td>\n",
       "      <td>14.197366</td>\n",
       "    </tr>\n",
       "    <tr>\n",
       "      <th>3</th>\n",
       "      <td>Abbotsford</td>\n",
       "      <td>3</td>\n",
       "      <td>h</td>\n",
       "      <td>850000.0</td>\n",
       "      <td>2.5</td>\n",
       "      <td>2.0</td>\n",
       "      <td>1.0</td>\n",
       "      <td>Northern Metropolitan</td>\n",
       "      <td>13.652993</td>\n",
       "    </tr>\n",
       "    <tr>\n",
       "      <th>4</th>\n",
       "      <td>Abbotsford</td>\n",
       "      <td>4</td>\n",
       "      <td>h</td>\n",
       "      <td>1600000.0</td>\n",
       "      <td>2.5</td>\n",
       "      <td>1.0</td>\n",
       "      <td>2.0</td>\n",
       "      <td>Northern Metropolitan</td>\n",
       "      <td>14.285515</td>\n",
       "    </tr>\n",
       "  </tbody>\n",
       "</table>\n",
       "</div>"
      ],
      "text/plain": [
       "       Suburb  Rooms Type      Price  Distance  Bathroom  Car  \\\n",
       "0  Abbotsford      2    h  1480000.0       2.5       1.0  1.0   \n",
       "1  Abbotsford      2    h  1035000.0       2.5       1.0  0.0   \n",
       "2  Abbotsford      3    h  1465000.0       2.5       2.0  0.0   \n",
       "3  Abbotsford      3    h   850000.0       2.5       2.0  1.0   \n",
       "4  Abbotsford      4    h  1600000.0       2.5       1.0  2.0   \n",
       "\n",
       "                  Region  Log_Price  \n",
       "0  Northern Metropolitan  14.207553  \n",
       "1  Northern Metropolitan  13.849913  \n",
       "2  Northern Metropolitan  14.197366  \n",
       "3  Northern Metropolitan  13.652993  \n",
       "4  Northern Metropolitan  14.285515  "
      ]
     },
     "execution_count": 2,
     "metadata": {},
     "output_type": "execute_result"
    }
   ],
   "source": [
    "# Reading the cleaned dataset\n",
    "cleaned_df = pd.read_csv('..\\Cleaned_Data\\Cleaned_Data_LogPrice.csv')\n",
    "cleaned_df.head()"
   ]
  },
  {
   "cell_type": "code",
   "execution_count": 3,
   "id": "ef6d8bd1",
   "metadata": {},
   "outputs": [
    {
     "data": {
      "text/plain": [
       "{'h': 0, 't': 1, 'u': 2}"
      ]
     },
     "execution_count": 3,
     "metadata": {},
     "output_type": "execute_result"
    }
   ],
   "source": [
    "# Enumerate Type\n",
    "encode = LabelEncoder().fit(cleaned_df['Type'])\n",
    "carpet = {x: i for i, x in enumerate(encode.classes_)}\n",
    "carpet"
   ]
  },
  {
   "cell_type": "code",
   "execution_count": 4,
   "id": "f922a025",
   "metadata": {},
   "outputs": [
    {
     "data": {
      "text/plain": [
       "{'Abbotsford': 0,\n",
       " 'Aberfeldie': 1,\n",
       " 'Airport West': 2,\n",
       " 'Albanvale': 3,\n",
       " 'Albert Park': 4,\n",
       " 'Albion': 5,\n",
       " 'Alphington': 6,\n",
       " 'Altona': 7,\n",
       " 'Altona Meadows': 8,\n",
       " 'Altona North': 9,\n",
       " 'Ardeer': 10,\n",
       " 'Armadale': 11,\n",
       " 'Ascot Vale': 12,\n",
       " 'Ashburton': 13,\n",
       " 'Ashwood': 14,\n",
       " 'Aspendale': 15,\n",
       " 'Aspendale Gardens': 16,\n",
       " 'Attwood': 17,\n",
       " 'Avondale Heights': 18,\n",
       " 'Bacchus Marsh': 19,\n",
       " 'Balaclava': 20,\n",
       " 'Balwyn': 21,\n",
       " 'Balwyn North': 22,\n",
       " 'Bayswater': 23,\n",
       " 'Bayswater North': 24,\n",
       " 'Beaconsfield': 25,\n",
       " 'Beaconsfield Upper': 26,\n",
       " 'Beaumaris': 27,\n",
       " 'Bellfield': 28,\n",
       " 'Bentleigh': 29,\n",
       " 'Bentleigh East': 30,\n",
       " 'Berwick': 31,\n",
       " 'Black Rock': 32,\n",
       " 'Blackburn': 33,\n",
       " 'Blackburn North': 34,\n",
       " 'Blackburn South': 35,\n",
       " 'Bonbeach': 36,\n",
       " 'Boronia': 37,\n",
       " 'Botanic Ridge': 38,\n",
       " 'Box Hill': 39,\n",
       " 'Braybrook': 40,\n",
       " 'Briar Hill': 41,\n",
       " 'Brighton': 42,\n",
       " 'Brighton East': 43,\n",
       " 'Broadmeadows': 44,\n",
       " 'Brookfield': 45,\n",
       " 'Brooklyn': 46,\n",
       " 'Brunswick': 47,\n",
       " 'Brunswick East': 48,\n",
       " 'Brunswick West': 49,\n",
       " 'Bulleen': 50,\n",
       " 'Bullengarook': 51,\n",
       " 'Bundoora': 52,\n",
       " 'Burnley': 53,\n",
       " 'Burnside': 54,\n",
       " 'Burnside Heights': 55,\n",
       " 'Burwood': 56,\n",
       " 'Burwood East': 57,\n",
       " 'Cairnlea': 58,\n",
       " 'Camberwell': 59,\n",
       " 'Campbellfield': 60,\n",
       " 'Canterbury': 61,\n",
       " 'Carlton': 62,\n",
       " 'Carlton North': 63,\n",
       " 'Carnegie': 64,\n",
       " 'Caroline Springs': 65,\n",
       " 'Carrum': 66,\n",
       " 'Carrum Downs': 67,\n",
       " 'Caulfield': 68,\n",
       " 'Caulfield East': 69,\n",
       " 'Caulfield North': 70,\n",
       " 'Caulfield South': 71,\n",
       " 'Chadstone': 72,\n",
       " 'Chelsea': 73,\n",
       " 'Chelsea Heights': 74,\n",
       " 'Cheltenham': 75,\n",
       " 'Chirnside Park': 76,\n",
       " 'Clarinda': 77,\n",
       " 'Clayton': 78,\n",
       " 'Clayton South': 79,\n",
       " 'Clifton Hill': 80,\n",
       " 'Coburg': 81,\n",
       " 'Coburg North': 82,\n",
       " 'Coldstream': 83,\n",
       " 'Collingwood': 84,\n",
       " 'Coolaroo': 85,\n",
       " 'Craigieburn': 86,\n",
       " 'Cranbourne': 87,\n",
       " 'Cranbourne North': 88,\n",
       " 'Cranbourne West': 89,\n",
       " 'Cremorne': 90,\n",
       " 'Croydon': 91,\n",
       " 'Croydon Hills': 92,\n",
       " 'Croydon North': 93,\n",
       " 'Croydon South': 94,\n",
       " 'Dallas': 95,\n",
       " 'Dandenong': 96,\n",
       " 'Dandenong North': 97,\n",
       " 'Deepdene': 98,\n",
       " 'Deer Park': 99,\n",
       " 'Delahey': 100,\n",
       " 'Derrimut': 101,\n",
       " 'Diamond Creek': 102,\n",
       " 'Diggers Rest': 103,\n",
       " 'Dingley Village': 104,\n",
       " 'Docklands': 105,\n",
       " 'Doncaster': 106,\n",
       " 'Doncaster East': 107,\n",
       " 'Donvale': 108,\n",
       " 'Doreen': 109,\n",
       " 'Doveton': 110,\n",
       " 'Eaglemont': 111,\n",
       " 'East Melbourne': 112,\n",
       " 'Edithvale': 113,\n",
       " 'Elsternwick': 114,\n",
       " 'Eltham': 115,\n",
       " 'Eltham North': 116,\n",
       " 'Elwood': 117,\n",
       " 'Emerald': 118,\n",
       " 'Endeavour Hills': 119,\n",
       " 'Epping': 120,\n",
       " 'Essendon': 121,\n",
       " 'Essendon North': 122,\n",
       " 'Essendon West': 123,\n",
       " 'Eumemmerring': 124,\n",
       " 'Fairfield': 125,\n",
       " 'Fawkner': 126,\n",
       " 'Ferntree Gully': 127,\n",
       " 'Fitzroy': 128,\n",
       " 'Fitzroy North': 129,\n",
       " 'Flemington': 130,\n",
       " 'Footscray': 131,\n",
       " 'Forest Hill': 132,\n",
       " 'Frankston': 133,\n",
       " 'Frankston North': 134,\n",
       " 'Frankston South': 135,\n",
       " 'Gardenvale': 136,\n",
       " 'Gisborne': 137,\n",
       " 'Gisborne South': 138,\n",
       " 'Gladstone Park': 139,\n",
       " 'Glen Huntly': 140,\n",
       " 'Glen Iris': 141,\n",
       " 'Glen Waverley': 142,\n",
       " 'Glenroy': 143,\n",
       " 'Gowanbrae': 144,\n",
       " 'Greensborough': 145,\n",
       " 'Greenvale': 146,\n",
       " 'Hadfield': 147,\n",
       " 'Hallam': 148,\n",
       " 'Hampton': 149,\n",
       " 'Hampton East': 150,\n",
       " 'Hampton Park': 151,\n",
       " 'Hawthorn': 152,\n",
       " 'Hawthorn East': 153,\n",
       " 'Healesville': 154,\n",
       " 'Heatherton': 155,\n",
       " 'Heathmont': 156,\n",
       " 'Heidelberg': 157,\n",
       " 'Heidelberg Heights': 158,\n",
       " 'Heidelberg West': 159,\n",
       " 'Highett': 160,\n",
       " 'Hillside': 161,\n",
       " 'Hoppers Crossing': 162,\n",
       " 'Hughesdale': 163,\n",
       " 'Huntingdale': 164,\n",
       " 'Hurstbridge': 165,\n",
       " 'Ivanhoe': 166,\n",
       " 'Ivanhoe East': 167,\n",
       " 'Jacana': 168,\n",
       " 'Kalkallo': 169,\n",
       " 'Kealba': 170,\n",
       " 'Keilor': 171,\n",
       " 'Keilor Downs': 172,\n",
       " 'Keilor East': 173,\n",
       " 'Keilor Lodge': 174,\n",
       " 'Keilor Park': 175,\n",
       " 'Kensington': 176,\n",
       " 'Kew': 177,\n",
       " 'Kew East': 178,\n",
       " 'Keysborough': 179,\n",
       " 'Kilsyth': 180,\n",
       " 'Kings Park': 181,\n",
       " 'Kingsbury': 182,\n",
       " 'Kingsville': 183,\n",
       " 'Knoxfield': 184,\n",
       " 'Kooyong': 185,\n",
       " 'Kurunjang': 186,\n",
       " 'Lalor': 187,\n",
       " 'Langwarrin': 188,\n",
       " 'Laverton': 189,\n",
       " 'Lilydale': 190,\n",
       " 'Lower Plenty': 191,\n",
       " 'Lysterfield': 192,\n",
       " 'Maidstone': 193,\n",
       " 'Malvern': 194,\n",
       " 'Malvern East': 195,\n",
       " 'Maribyrnong': 196,\n",
       " 'McKinnon': 197,\n",
       " 'Meadow Heights': 198,\n",
       " 'Melbourne': 199,\n",
       " 'Melton': 200,\n",
       " 'Melton South': 201,\n",
       " 'Melton West': 202,\n",
       " 'Mentone': 203,\n",
       " 'Mernda': 204,\n",
       " 'Mickleham': 205,\n",
       " 'Middle Park': 206,\n",
       " 'Mill Park': 207,\n",
       " 'Mitcham': 208,\n",
       " 'Monbulk': 209,\n",
       " 'Mont Albert': 210,\n",
       " 'Montmorency': 211,\n",
       " 'Montrose': 212,\n",
       " 'Moonee Ponds': 213,\n",
       " 'Moorabbin': 214,\n",
       " 'Mooroolbark': 215,\n",
       " 'Mordialloc': 216,\n",
       " 'Mount Evelyn': 217,\n",
       " 'Mount Waverley': 218,\n",
       " 'Mulgrave': 219,\n",
       " 'Murrumbeena': 220,\n",
       " 'Narre Warren': 221,\n",
       " 'New Gisborne': 222,\n",
       " 'Newport': 223,\n",
       " 'Niddrie': 224,\n",
       " 'Noble Park': 225,\n",
       " 'North Melbourne': 226,\n",
       " 'North Warrandyte': 227,\n",
       " 'Northcote': 228,\n",
       " 'Notting Hill': 229,\n",
       " 'Nunawading': 230,\n",
       " 'Oak Park': 231,\n",
       " 'Oakleigh': 232,\n",
       " 'Oakleigh East': 233,\n",
       " 'Oakleigh South': 234,\n",
       " 'Officer': 235,\n",
       " 'Ormond': 236,\n",
       " 'Pakenham': 237,\n",
       " 'Parkdale': 238,\n",
       " 'Parkville': 239,\n",
       " 'Pascoe Vale': 240,\n",
       " 'Patterson Lakes': 241,\n",
       " 'Plenty': 242,\n",
       " 'Plumpton': 243,\n",
       " 'Point Cook': 244,\n",
       " 'Port Melbourne': 245,\n",
       " 'Prahran': 246,\n",
       " 'Preston': 247,\n",
       " 'Princes Hill': 248,\n",
       " 'Research': 249,\n",
       " 'Reservoir': 250,\n",
       " 'Richmond': 251,\n",
       " 'Riddells Creek': 252,\n",
       " 'Ringwood': 253,\n",
       " 'Ringwood East': 254,\n",
       " 'Ringwood North': 255,\n",
       " 'Ripponlea': 256,\n",
       " 'Rockbank': 257,\n",
       " 'Rosanna': 258,\n",
       " 'Rowville': 259,\n",
       " 'Roxburgh Park': 260,\n",
       " 'Sandhurst': 261,\n",
       " 'Sandringham': 262,\n",
       " 'Scoresby': 263,\n",
       " 'Seabrook': 264,\n",
       " 'Seaford': 265,\n",
       " 'Seaholme': 266,\n",
       " 'Seddon': 267,\n",
       " 'Silvan': 268,\n",
       " 'Skye': 269,\n",
       " 'South Kingsville': 270,\n",
       " 'South Melbourne': 271,\n",
       " 'South Morang': 272,\n",
       " 'South Yarra': 273,\n",
       " 'Southbank': 274,\n",
       " 'Spotswood': 275,\n",
       " 'Springvale': 276,\n",
       " 'Springvale South': 277,\n",
       " 'St Albans': 278,\n",
       " 'St Helena': 279,\n",
       " 'St Kilda': 280,\n",
       " 'Strathmore': 281,\n",
       " 'Strathmore Heights': 282,\n",
       " 'Sunbury': 283,\n",
       " 'Sunshine': 284,\n",
       " 'Sunshine North': 285,\n",
       " 'Sunshine West': 286,\n",
       " 'Surrey Hills': 287,\n",
       " 'Sydenham': 288,\n",
       " 'Tarneit': 289,\n",
       " 'Taylors Hill': 290,\n",
       " 'Taylors Lakes': 291,\n",
       " 'Templestowe': 292,\n",
       " 'Templestowe Lower': 293,\n",
       " 'The Basin': 294,\n",
       " 'Thomastown': 295,\n",
       " 'Thornbury': 296,\n",
       " 'Toorak': 297,\n",
       " 'Travancore': 298,\n",
       " 'Truganina': 299,\n",
       " 'Tullamarine': 300,\n",
       " 'Upwey': 301,\n",
       " 'Vermont': 302,\n",
       " 'Vermont South': 303,\n",
       " 'Viewbank': 304,\n",
       " 'Wallan': 305,\n",
       " 'Wandin North': 306,\n",
       " 'Wantirna': 307,\n",
       " 'Wantirna South': 308,\n",
       " 'Warrandyte': 309,\n",
       " 'Warranwood': 310,\n",
       " 'Waterways': 311,\n",
       " 'Watsonia': 312,\n",
       " 'Watsonia North': 313,\n",
       " 'Wattle Glen': 314,\n",
       " 'Werribee': 315,\n",
       " 'Werribee South': 316,\n",
       " 'West Footscray': 317,\n",
       " 'West Melbourne': 318,\n",
       " 'Westmeadows': 319,\n",
       " 'Wheelers Hill': 320,\n",
       " 'Whittlesea': 321,\n",
       " 'Wildwood': 322,\n",
       " 'Williams Landing': 323,\n",
       " 'Williamstown': 324,\n",
       " 'Williamstown North': 325,\n",
       " 'Windsor': 326,\n",
       " 'Wollert': 327,\n",
       " 'Wonga Park': 328,\n",
       " 'Wyndham Vale': 329,\n",
       " 'Yallambie': 330,\n",
       " 'Yarra Glen': 331,\n",
       " 'Yarraville': 332}"
      ]
     },
     "execution_count": 4,
     "metadata": {},
     "output_type": "execute_result"
    }
   ],
   "source": [
    "# Enumerate Suburb\n",
    "encoder = LabelEncoder().fit(cleaned_df['Suburb'])\n",
    "carp = {x: i for i, x in enumerate(encoder.classes_)}\n",
    "carp"
   ]
  },
  {
   "cell_type": "code",
   "execution_count": 5,
   "id": "ca0e654b",
   "metadata": {},
   "outputs": [
    {
     "data": {
      "text/plain": [
       "{'Eastern Metropolitan': 0,\n",
       " 'Eastern Victoria': 1,\n",
       " 'Northern Metropolitan': 2,\n",
       " 'Northern Victoria': 3,\n",
       " 'South-Eastern Metropolitan': 4,\n",
       " 'Southern Metropolitan': 5,\n",
       " 'Western Metropolitan': 6,\n",
       " 'Western Victoria': 7}"
      ]
     },
     "execution_count": 5,
     "metadata": {},
     "output_type": "execute_result"
    }
   ],
   "source": [
    "# Enumerate Region\n",
    "encoder = LabelEncoder().fit(cleaned_df['Region'])\n",
    "carp = {x: i for i, x in enumerate(encoder.classes_)}\n",
    "carp"
   ]
  },
  {
   "cell_type": "code",
   "execution_count": 6,
   "id": "a9083f49",
   "metadata": {},
   "outputs": [
    {
     "data": {
      "text/plain": [
       "0          0\n",
       "1          0\n",
       "2          0\n",
       "3          0\n",
       "4          0\n",
       "        ... \n",
       "17693    327\n",
       "17694    332\n",
       "17695    332\n",
       "17696    332\n",
       "17697    332\n",
       "Name: Suburb, Length: 17698, dtype: int32"
      ]
     },
     "execution_count": 6,
     "metadata": {},
     "output_type": "execute_result"
    }
   ],
   "source": [
    "# Convert to numerical variable \n",
    "cleaned_df['Suburb'] = LabelEncoder().fit_transform(cleaned_df['Suburb'])\n",
    "cleaned_df['Suburb']"
   ]
  },
  {
   "cell_type": "code",
   "execution_count": 7,
   "id": "f73fbf09",
   "metadata": {},
   "outputs": [
    {
     "data": {
      "text/plain": [
       "0        0\n",
       "1        0\n",
       "2        0\n",
       "3        0\n",
       "4        0\n",
       "        ..\n",
       "17693    0\n",
       "17694    0\n",
       "17695    0\n",
       "17696    1\n",
       "17697    0\n",
       "Name: Type, Length: 17698, dtype: int32"
      ]
     },
     "execution_count": 7,
     "metadata": {},
     "output_type": "execute_result"
    }
   ],
   "source": [
    "# Convert to numerical variable \n",
    "cleaned_df['Type'] = LabelEncoder().fit_transform(cleaned_df['Type'])\n",
    "cleaned_df['Type']"
   ]
  },
  {
   "cell_type": "code",
   "execution_count": 8,
   "id": "a869d65d",
   "metadata": {},
   "outputs": [
    {
     "data": {
      "text/plain": [
       "0        2\n",
       "1        2\n",
       "2        2\n",
       "3        2\n",
       "4        2\n",
       "        ..\n",
       "17693    2\n",
       "17694    6\n",
       "17695    6\n",
       "17696    6\n",
       "17697    6\n",
       "Name: Region, Length: 17698, dtype: int32"
      ]
     },
     "execution_count": 8,
     "metadata": {},
     "output_type": "execute_result"
    }
   ],
   "source": [
    "cleaned_df['Region'] = LabelEncoder().fit_transform(cleaned_df['Region'])\n",
    "cleaned_df['Region']"
   ]
  },
  {
   "cell_type": "code",
   "execution_count": 9,
   "id": "44594ed9",
   "metadata": {},
   "outputs": [
    {
     "data": {
      "text/html": [
       "<div>\n",
       "<style scoped>\n",
       "    .dataframe tbody tr th:only-of-type {\n",
       "        vertical-align: middle;\n",
       "    }\n",
       "\n",
       "    .dataframe tbody tr th {\n",
       "        vertical-align: top;\n",
       "    }\n",
       "\n",
       "    .dataframe thead th {\n",
       "        text-align: right;\n",
       "    }\n",
       "</style>\n",
       "<table border=\"1\" class=\"dataframe\">\n",
       "  <thead>\n",
       "    <tr style=\"text-align: right;\">\n",
       "      <th></th>\n",
       "      <th>Suburb</th>\n",
       "      <th>Rooms</th>\n",
       "      <th>Type</th>\n",
       "      <th>Distance</th>\n",
       "      <th>Bathroom</th>\n",
       "      <th>Car</th>\n",
       "      <th>Region</th>\n",
       "    </tr>\n",
       "  </thead>\n",
       "  <tbody>\n",
       "    <tr>\n",
       "      <th>0</th>\n",
       "      <td>0</td>\n",
       "      <td>2</td>\n",
       "      <td>0</td>\n",
       "      <td>2.5</td>\n",
       "      <td>1.0</td>\n",
       "      <td>1.0</td>\n",
       "      <td>2</td>\n",
       "    </tr>\n",
       "    <tr>\n",
       "      <th>1</th>\n",
       "      <td>0</td>\n",
       "      <td>2</td>\n",
       "      <td>0</td>\n",
       "      <td>2.5</td>\n",
       "      <td>1.0</td>\n",
       "      <td>0.0</td>\n",
       "      <td>2</td>\n",
       "    </tr>\n",
       "    <tr>\n",
       "      <th>2</th>\n",
       "      <td>0</td>\n",
       "      <td>3</td>\n",
       "      <td>0</td>\n",
       "      <td>2.5</td>\n",
       "      <td>2.0</td>\n",
       "      <td>0.0</td>\n",
       "      <td>2</td>\n",
       "    </tr>\n",
       "    <tr>\n",
       "      <th>3</th>\n",
       "      <td>0</td>\n",
       "      <td>3</td>\n",
       "      <td>0</td>\n",
       "      <td>2.5</td>\n",
       "      <td>2.0</td>\n",
       "      <td>1.0</td>\n",
       "      <td>2</td>\n",
       "    </tr>\n",
       "    <tr>\n",
       "      <th>4</th>\n",
       "      <td>0</td>\n",
       "      <td>4</td>\n",
       "      <td>0</td>\n",
       "      <td>2.5</td>\n",
       "      <td>1.0</td>\n",
       "      <td>2.0</td>\n",
       "      <td>2</td>\n",
       "    </tr>\n",
       "    <tr>\n",
       "      <th>...</th>\n",
       "      <td>...</td>\n",
       "      <td>...</td>\n",
       "      <td>...</td>\n",
       "      <td>...</td>\n",
       "      <td>...</td>\n",
       "      <td>...</td>\n",
       "      <td>...</td>\n",
       "    </tr>\n",
       "    <tr>\n",
       "      <th>17693</th>\n",
       "      <td>327</td>\n",
       "      <td>3</td>\n",
       "      <td>0</td>\n",
       "      <td>25.5</td>\n",
       "      <td>2.0</td>\n",
       "      <td>2.0</td>\n",
       "      <td>2</td>\n",
       "    </tr>\n",
       "    <tr>\n",
       "      <th>17694</th>\n",
       "      <td>332</td>\n",
       "      <td>4</td>\n",
       "      <td>0</td>\n",
       "      <td>6.3</td>\n",
       "      <td>1.0</td>\n",
       "      <td>3.0</td>\n",
       "      <td>6</td>\n",
       "    </tr>\n",
       "    <tr>\n",
       "      <th>17695</th>\n",
       "      <td>332</td>\n",
       "      <td>2</td>\n",
       "      <td>0</td>\n",
       "      <td>6.3</td>\n",
       "      <td>2.0</td>\n",
       "      <td>1.0</td>\n",
       "      <td>6</td>\n",
       "    </tr>\n",
       "    <tr>\n",
       "      <th>17696</th>\n",
       "      <td>332</td>\n",
       "      <td>2</td>\n",
       "      <td>1</td>\n",
       "      <td>6.3</td>\n",
       "      <td>1.0</td>\n",
       "      <td>2.0</td>\n",
       "      <td>6</td>\n",
       "    </tr>\n",
       "    <tr>\n",
       "      <th>17697</th>\n",
       "      <td>332</td>\n",
       "      <td>2</td>\n",
       "      <td>0</td>\n",
       "      <td>6.3</td>\n",
       "      <td>1.0</td>\n",
       "      <td>0.0</td>\n",
       "      <td>6</td>\n",
       "    </tr>\n",
       "  </tbody>\n",
       "</table>\n",
       "<p>17698 rows × 7 columns</p>\n",
       "</div>"
      ],
      "text/plain": [
       "       Suburb  Rooms  Type  Distance  Bathroom  Car  Region\n",
       "0           0      2     0       2.5       1.0  1.0       2\n",
       "1           0      2     0       2.5       1.0  0.0       2\n",
       "2           0      3     0       2.5       2.0  0.0       2\n",
       "3           0      3     0       2.5       2.0  1.0       2\n",
       "4           0      4     0       2.5       1.0  2.0       2\n",
       "...       ...    ...   ...       ...       ...  ...     ...\n",
       "17693     327      3     0      25.5       2.0  2.0       2\n",
       "17694     332      4     0       6.3       1.0  3.0       6\n",
       "17695     332      2     0       6.3       2.0  1.0       6\n",
       "17696     332      2     1       6.3       1.0  2.0       6\n",
       "17697     332      2     0       6.3       1.0  0.0       6\n",
       "\n",
       "[17698 rows x 7 columns]"
      ]
     },
     "execution_count": 9,
     "metadata": {},
     "output_type": "execute_result"
    }
   ],
   "source": [
    "# Convert categorical data to numeric and separate target feature for training data\n",
    "X = cleaned_df.drop([\"Log_Price\", 'Price'],  axis = 1)\n",
    "\n",
    "y = cleaned_df['Price']\n",
    "\n",
    "X"
   ]
  },
  {
   "cell_type": "code",
   "execution_count": 10,
   "id": "9ce985b3",
   "metadata": {},
   "outputs": [
    {
     "name": "stdout",
     "output_type": "stream",
     "text": [
      "<class 'pandas.core.frame.DataFrame'>\n",
      "RangeIndex: 17698 entries, 0 to 17697\n",
      "Data columns (total 7 columns):\n",
      " #   Column    Non-Null Count  Dtype  \n",
      "---  ------    --------------  -----  \n",
      " 0   Suburb    17698 non-null  int32  \n",
      " 1   Rooms     17698 non-null  int64  \n",
      " 2   Type      17698 non-null  int32  \n",
      " 3   Distance  17698 non-null  float64\n",
      " 4   Bathroom  17698 non-null  float64\n",
      " 5   Car       17698 non-null  float64\n",
      " 6   Region    17698 non-null  int32  \n",
      "dtypes: float64(3), int32(3), int64(1)\n",
      "memory usage: 760.6 KB\n"
     ]
    }
   ],
   "source": [
    "X.info()"
   ]
  },
  {
   "cell_type": "code",
   "execution_count": 11,
   "id": "b6b53645",
   "metadata": {},
   "outputs": [],
   "source": [
    "# split data\n",
    "X_train, X_test, y_train, y_test = train_test_split(X, y, test_size = 0.2, random_state = 42)\n",
    "\n",
    "#Scale data\n",
    "scaler = StandardScaler().fit(X_train)\n",
    "X_train_scaled = scaler.transform(X_train)\n",
    "X_test_scaled = scaler.transform(X_test)"
   ]
  },
  {
   "cell_type": "code",
   "execution_count": 12,
   "id": "778c706d",
   "metadata": {},
   "outputs": [
    {
     "data": {
      "text/plain": [
       "((14158, 7), (3540, 7))"
      ]
     },
     "execution_count": 12,
     "metadata": {},
     "output_type": "execute_result"
    }
   ],
   "source": [
    "X_train_scaled.shape, X_test_scaled.shape"
   ]
  },
  {
   "cell_type": "markdown",
   "id": "b8eaaedb",
   "metadata": {},
   "source": [
    "# Data Modeling"
   ]
  },
  {
   "cell_type": "markdown",
   "id": "0b3d4a9d",
   "metadata": {},
   "source": [
    "## Linear Regression model"
   ]
  },
  {
   "cell_type": "code",
   "execution_count": null,
   "id": "90c01c2a",
   "metadata": {},
   "outputs": [],
   "source": [
    "# Fit the Linear Regression model with data\n",
    "model_lr = LinearRegression().fit(X_train_scaled, y_train)"
   ]
  },
  {
   "cell_type": "code",
   "execution_count": null,
   "id": "2ff13009",
   "metadata": {},
   "outputs": [],
   "source": [
    "# Calculate training and testing score \n",
    "training_score = model_lr.score(X_train_scaled, y_train)\n",
    "testing_score = model_lr.score(X_test_scaled, y_test)"
   ]
  },
  {
   "cell_type": "code",
   "execution_count": null,
   "id": "f9619118",
   "metadata": {},
   "outputs": [],
   "source": [
    "# Print the training and testing score\n",
    "print(f\"Model: Linear Regression\")\n",
    "print(f\"Training Score: {training_score}\")\n",
    "print(f\"Testing Score: {testing_score}\")"
   ]
  },
  {
   "cell_type": "code",
   "execution_count": null,
   "id": "3e610100",
   "metadata": {},
   "outputs": [],
   "source": []
  },
  {
   "cell_type": "code",
   "execution_count": 19,
   "id": "9f5fef2a",
   "metadata": {},
   "outputs": [
    {
     "data": {
      "text/plain": [
       "(263305031644.15808, 513132.5673197503, 343080.5753475964, 0.401818669508635)"
      ]
     },
     "execution_count": 19,
     "metadata": {},
     "output_type": "execute_result"
    }
   ],
   "source": [
    "# Initialize the Linear Regression model\n",
    "lr_model = LinearRegression()\n",
    "\n",
    "# Train the model on the training data\n",
    "lr_model.fit(X_train_scaled, y_train)\n",
    "\n",
    "# Predict on the testing data\n",
    "y_pred_lr = lr_model.predict(X_test_scaled)\n",
    "\n",
    "# Calculate evaluation metrics\n",
    "lr_mse = mean_squared_error(y_test, y_pred_lr)\n",
    "lr_rmse = mean_squared_error(y_test, y_pred_lr, squared=False)\n",
    "lr_mae = mean_absolute_error(y_test, y_pred_lr)  # Fix: Use mean_absolute_error\n",
    "lr_r2 = r2_score(y_test, y_pred_lr)\n",
    "\n",
    "lr_mse, lr_rmse, lr_mae, lr_r2"
   ]
  },
  {
   "cell_type": "code",
   "execution_count": null,
   "id": "7dfa3d11",
   "metadata": {},
   "outputs": [],
   "source": []
  },
  {
   "cell_type": "code",
   "execution_count": null,
   "id": "d0c53531",
   "metadata": {},
   "outputs": [],
   "source": []
  },
  {
   "cell_type": "code",
   "execution_count": null,
   "id": "61af870d",
   "metadata": {},
   "outputs": [],
   "source": []
  },
  {
   "cell_type": "code",
   "execution_count": null,
   "id": "753a935e",
   "metadata": {},
   "outputs": [],
   "source": []
  },
  {
   "cell_type": "code",
   "execution_count": null,
   "id": "03a9152d",
   "metadata": {},
   "outputs": [],
   "source": []
  },
  {
   "cell_type": "markdown",
   "id": "ac72e4f3",
   "metadata": {},
   "source": [
    "## Random Forest model"
   ]
  },
  {
   "cell_type": "code",
   "execution_count": null,
   "id": "c42d59c9",
   "metadata": {},
   "outputs": [],
   "source": [
    "# Fit the Random Forest model with data\n",
    "model_rf = RandomForestRegressor(n_estimators = 100, criterion = 'squared_error',\n",
    "                              random_state = 42,\n",
    "                             max_depth = 2).fit(X_train, y_train)"
   ]
  },
  {
   "cell_type": "code",
   "execution_count": null,
   "id": "0380c9b4",
   "metadata": {},
   "outputs": [],
   "source": [
    "# Calculate the training and testing score\n",
    "training_score = model_rf.score(X_train, y_train)\n",
    "testing_score = model_rf.score(X_test, y_test)"
   ]
  },
  {
   "cell_type": "code",
   "execution_count": null,
   "id": "2abe6966",
   "metadata": {},
   "outputs": [],
   "source": [
    "# Print the training testing score\n",
    "print(f\"Model: Randomized Search CV\")\n",
    "print(f\"Training Score: {training_score}\")\n",
    "print(f\"Testing Score: {testing_score}\")"
   ]
  },
  {
   "cell_type": "markdown",
   "id": "56efa29f",
   "metadata": {},
   "source": [
    "## Decision Tree model"
   ]
  },
  {
   "cell_type": "code",
   "execution_count": null,
   "id": "c0806050",
   "metadata": {},
   "outputs": [],
   "source": [
    "# Fit the Decision Tree model with data\n",
    "model_tree = DecisionTreeRegressor(criterion='squared_error', \n",
    "                                  splitter='best', max_depth=None, \n",
    "                                  min_samples_split=2,min_samples_leaf=1, \n",
    "                                  min_weight_fraction_leaf=0.0,max_features=None, \n",
    "                                  random_state= 42, max_leaf_nodes=None, \n",
    "                                  min_impurity_decrease=0.0, ccp_alpha=0.0,).fit(X_train, y_train)"
   ]
  },
  {
   "cell_type": "code",
   "execution_count": null,
   "id": "66eed3c1",
   "metadata": {},
   "outputs": [],
   "source": [
    "# Calculate training and testing score \n",
    "training_score = model_tree.score(X_train, y_train)\n",
    "testing_score = model_tree.score(X_test, y_test)"
   ]
  },
  {
   "cell_type": "code",
   "execution_count": null,
   "id": "2c5d063a",
   "metadata": {},
   "outputs": [],
   "source": [
    "# Print the training testing score\n",
    "print(f\"Model: Decision Tree Regressor\")\n",
    "print(f\"Training Score: {training_score}\")\n",
    "print(f\"Testing Score: {testing_score}\")"
   ]
  },
  {
   "cell_type": "markdown",
   "id": "fddd6de0",
   "metadata": {},
   "source": [
    "## Randomized Search CV model"
   ]
  },
  {
   "cell_type": "code",
   "execution_count": null,
   "id": "7e1f2998",
   "metadata": {},
   "outputs": [],
   "source": [
    "# Fit the Randomized Search model with data\n",
    "param_dists = {'criterion' : ['squared_error', 'friedman_mse',], \n",
    "                       'max_depth': [3,4,7, None],\n",
    "                        'min_samples_split':np.arange(0.1, 1.1, 0.1),\n",
    "                        'min_samples_leaf' : list(range(1, 21)), \n",
    "                        'max_features' : ['sqrt', 'log2', None]}\n",
    "\n",
    "model_cv = RandomizedSearchCV(estimator = RandomForestRegressor(random_state= 42), \n",
    "                              param_distributions = param_dists,  n_iter=200, \n",
    "                              scoring= 'neg_mean_squared_error',\n",
    "                              cv=5, random_state= 42).fit(X_train_scaled, y_train)"
   ]
  },
  {
   "cell_type": "code",
   "execution_count": null,
   "id": "469697b3",
   "metadata": {},
   "outputs": [],
   "source": [
    "# Calculate training and testing score \n",
    "training_score = model_cv.score(X_train_scaled, y_train)\n",
    "testing_score = model_cv.score(X_test_scaled, y_test)"
   ]
  },
  {
   "cell_type": "code",
   "execution_count": null,
   "id": "a19a1e25",
   "metadata": {},
   "outputs": [],
   "source": [
    "# Print the training testing score\n",
    "print(f\"Model: Randomized Search CV\")\n",
    "print(f\"Training Score: {training_score}\")\n",
    "print(f\"Testing Score: {testing_score}\")"
   ]
  },
  {
   "cell_type": "markdown",
   "id": "70c71b60",
   "metadata": {},
   "source": [
    "## Support Vector Regressor model"
   ]
  },
  {
   "cell_type": "code",
   "execution_count": null,
   "id": "7248f2ce",
   "metadata": {},
   "outputs": [],
   "source": [
    "# Fit the Support Vector Regressor model with data\n",
    "model_svr = SVR(kernel = \"rbf\").fit(X_train_scaled, y_train)"
   ]
  },
  {
   "cell_type": "code",
   "execution_count": null,
   "id": "5fa22843",
   "metadata": {},
   "outputs": [],
   "source": [
    "# Calculate training and testing score \n",
    "training_score = model_svr.score(X_train_scaled, y_train)\n",
    "testing_score = model_svr.score(X_test_scaled, y_test)"
   ]
  },
  {
   "cell_type": "code",
   "execution_count": null,
   "id": "48452396",
   "metadata": {},
   "outputs": [],
   "source": [
    "# Print the training testing score\n",
    "print(f\"Model: Support Vector Regressor\")\n",
    "print(f\"Training Score: {training_score}\")\n",
    "print(f\"Testing Score: {testing_score}\")"
   ]
  },
  {
   "cell_type": "markdown",
   "id": "61d1d1ed",
   "metadata": {},
   "source": [
    "## Lasso model"
   ]
  },
  {
   "cell_type": "code",
   "execution_count": null,
   "id": "ec5cce68",
   "metadata": {},
   "outputs": [],
   "source": [
    "# Fit the Lasso model with data\n",
    "model_lasso = Lasso(alpha =1.0 , max_iter = 1000).fit(X_train_scaled, y_train)"
   ]
  },
  {
   "cell_type": "code",
   "execution_count": null,
   "id": "c7332fe0",
   "metadata": {},
   "outputs": [],
   "source": [
    "# Calculate training and testing score \n",
    "training_score = model_lasso.score(X_train_scaled, y_train)\n",
    "testing_score = model_lasso.score(X_test_scaled, y_test)"
   ]
  },
  {
   "cell_type": "code",
   "execution_count": null,
   "id": "fa95c37f",
   "metadata": {},
   "outputs": [],
   "source": [
    "# Print the training testing score\n",
    "print(f\"Model: Lasso Regression\")\n",
    "print(f\"Training Score: {training_score}\")\n",
    "print(f\"Testing Score: {testing_score}\")"
   ]
  },
  {
   "cell_type": "markdown",
   "id": "bb9eec03",
   "metadata": {},
   "source": [
    "## Ridge model"
   ]
  },
  {
   "cell_type": "code",
   "execution_count": null,
   "id": "626ec589",
   "metadata": {},
   "outputs": [],
   "source": [
    "# Fit the Ridge model with data\n",
    "model_ridge = Ridge(alpha = 100).fit(X_train, y_train)"
   ]
  },
  {
   "cell_type": "code",
   "execution_count": null,
   "id": "7b29589a",
   "metadata": {},
   "outputs": [],
   "source": [
    "# Calculate training and testing score \n",
    "training_score = model_ridge.score(X_train, y_train)\n",
    "testing_score = model_ridge.score(X_test, y_test)"
   ]
  },
  {
   "cell_type": "code",
   "execution_count": null,
   "id": "d1f98139",
   "metadata": {},
   "outputs": [],
   "source": [
    "# Print the training testing score\n",
    "print(f\"Model: Ridge Regression\")\n",
    "print(f\"Training Score: {training_score}\")\n",
    "print(f\"Testing Score: {testing_score}\")"
   ]
  },
  {
   "cell_type": "markdown",
   "id": "89760fb9",
   "metadata": {},
   "source": [
    "## Tuning Decision Tree Model"
   ]
  },
  {
   "cell_type": "code",
   "execution_count": null,
   "id": "838f7cab",
   "metadata": {},
   "outputs": [],
   "source": [
    "# Define the hyperparameters and their possible values\n",
    "param_grid = {\n",
    "    'max_depth': [None, 5, 10, 15, 20],\n",
    "    'min_samples_split': [2, 5, 10],\n",
    "    'min_samples_leaf': [1, 2, 5],\n",
    "    'max_features': [None, 'sqrt', 'log2'],\n",
    "    'ccp_alpha': [0.0, 0.01, 0.1]\n",
    "}\n",
    "\n",
    "# Initialize the Decision Tree Regressor\n",
    "model_tree = DecisionTreeRegressor(random_state=42)\n",
    "\n",
    "# Use GridSearchCV to find the best hyperparameters\n",
    "grid_search = GridSearchCV(model_tree, param_grid, cv=5, scoring='r2', n_jobs=-1, verbose=1)\n",
    "grid_search.fit(X_train, y_train)\n",
    "\n",
    "# Get the best hyperparameters from the grid search\n",
    "best_params = grid_search.best_params_\n",
    "best_params"
   ]
  },
  {
   "cell_type": "code",
   "execution_count": null,
   "id": "c0117e2e",
   "metadata": {},
   "outputs": [],
   "source": [
    "# Fit the Decision Tree model with data\n",
    "model_tree = DecisionTreeRegressor(criterion='squared_error', \n",
    "                                  splitter='best', max_depth=15, \n",
    "                                  min_samples_split=2,min_samples_leaf=5, \n",
    "                                  min_weight_fraction_leaf=0.0,max_features=None, \n",
    "                                  random_state= 42, max_leaf_nodes=None, \n",
    "                                  min_impurity_decrease=0.0, ccp_alpha=0.0,).fit(X_train, y_train)"
   ]
  },
  {
   "cell_type": "code",
   "execution_count": null,
   "id": "87c3d7bc",
   "metadata": {},
   "outputs": [],
   "source": [
    "# Calculate training and testing score \n",
    "training_score = model_tree.score(X_train, y_train)\n",
    "testing_score_tuned = model_tree.score(X_test, y_test)"
   ]
  },
  {
   "cell_type": "code",
   "execution_count": null,
   "id": "82dac12f",
   "metadata": {},
   "outputs": [],
   "source": [
    "# Print the training testing score\n",
    "print(f\"Model: Decision Tree Regressor\")\n",
    "print(f\"Training Score: {training_score}\")\n",
    "print(f\"Testing Score: {testing_score_tuned}\")"
   ]
  },
  {
   "cell_type": "markdown",
   "id": "5d87332d",
   "metadata": {},
   "source": [
    "## Price Predictions"
   ]
  },
  {
   "cell_type": "code",
   "execution_count": null,
   "id": "5e342edc",
   "metadata": {},
   "outputs": [],
   "source": [
    " # Predict the price with Linear Regression model\n",
    "y_pred = model_lr.predict(X_test)\n",
    "pd.DataFrame({\"Prediction\": y_pred, \"Actual\": y_test})"
   ]
  },
  {
   "cell_type": "code",
   "execution_count": null,
   "id": "628f7a16",
   "metadata": {},
   "outputs": [],
   "source": [
    "# Predict the price with Random Forest model \n",
    "y_pred = model_rf.predict(X_test)\n",
    "pd.DataFrame({\"Prediction\": y_pred, \"Actual\": y_test})"
   ]
  },
  {
   "cell_type": "code",
   "execution_count": null,
   "id": "aeb43d5f",
   "metadata": {},
   "outputs": [],
   "source": [
    " # Predict the price with Decision Tree model \n",
    "y_pred = model_tree.predict(X_test)\n",
    "pd.DataFrame({\"Prediction\": y_pred, \"Actual\": y_test})"
   ]
  },
  {
   "cell_type": "code",
   "execution_count": null,
   "id": "daf8ecf6",
   "metadata": {},
   "outputs": [],
   "source": [
    " # Predict the price with Random Search CV model \n",
    "y_pred = model_cv.predict(X_test)\n",
    "pd.DataFrame({\"Prediction\": y_pred, \"Actual\": y_test})"
   ]
  },
  {
   "cell_type": "code",
   "execution_count": null,
   "id": "c9708a07",
   "metadata": {},
   "outputs": [],
   "source": [
    " # Predict the price with Support Vector Regressor model \n",
    "y_pred = model_svr.predict(X_test)\n",
    "pd.DataFrame({\"Prediction\": y_pred, \"Actual\": y_test})"
   ]
  },
  {
   "cell_type": "code",
   "execution_count": null,
   "id": "3d3788d0",
   "metadata": {},
   "outputs": [],
   "source": [
    " # Predict the price with Lasso model \n",
    "y_pred = model_lasso.predict(X_test)\n",
    "pd.DataFrame({\"Prediction\": y_pred, \"Actual\": y_test})"
   ]
  },
  {
   "cell_type": "code",
   "execution_count": null,
   "id": "6917cb22",
   "metadata": {},
   "outputs": [],
   "source": [
    " # Predict the price with Ridge model \n",
    "y_pred = model_ridge.predict(X_test)\n",
    "pd.DataFrame({\"Prediction\": y_pred, \"Actual\": y_test})"
   ]
  },
  {
   "cell_type": "markdown",
   "id": "6496060d",
   "metadata": {},
   "source": [
    "## Save and test the model"
   ]
  },
  {
   "cell_type": "code",
   "execution_count": null,
   "id": "7678f9fe",
   "metadata": {},
   "outputs": [],
   "source": [
    "# Saving model\n",
    "pickle.dump(model_tree, open('../Trained_Model/model.pkl','wb'))"
   ]
  },
  {
   "cell_type": "code",
   "execution_count": null,
   "id": "488eb907",
   "metadata": {},
   "outputs": [],
   "source": [
    "test_df = pd.DataFrame({\n",
    "    \"Rooms\": [2],\n",
    "    \"Type\": [1],\n",
    "    \"Distance\": [5],\n",
    "    \"Bathroom\": [2],\n",
    "    \"Car\": [2],\n",
    "    \"Region\": [1],\n",
    "\n",
    "})\n",
    "\n",
    "# Create the index\n",
    "index_ = ['0']\n",
    "\n",
    "# Set the index\n",
    "test_df.index = index_"
   ]
  },
  {
   "cell_type": "code",
   "execution_count": null,
   "id": "73c2662e",
   "metadata": {},
   "outputs": [],
   "source": [
    "#Loading model to compare the results\n",
    "model = pickle.load(open('../Trained_Model/model.pkl','rb'))\n",
    "print(model.predict(test_df))"
   ]
  },
  {
   "cell_type": "code",
   "execution_count": null,
   "id": "f2a9130d",
   "metadata": {},
   "outputs": [],
   "source": []
  }
 ],
 "metadata": {
  "kernelspec": {
   "display_name": "Python 3 (ipykernel)",
   "language": "python",
   "name": "python3"
  },
  "language_info": {
   "codemirror_mode": {
    "name": "ipython",
    "version": 3
   },
   "file_extension": ".py",
   "mimetype": "text/x-python",
   "name": "python",
   "nbconvert_exporter": "python",
   "pygments_lexer": "ipython3",
   "version": "3.10.11"
  }
 },
 "nbformat": 4,
 "nbformat_minor": 5
}
